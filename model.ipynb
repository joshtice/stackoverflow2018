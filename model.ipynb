{
 "cells": [
  {
   "cell_type": "code",
   "execution_count": 1,
   "metadata": {},
   "outputs": [],
   "source": [
    "from   collections import Counter\n",
    "import matplotlib.pyplot as plt\n",
    "import numpy as np\n",
    "import pandas as pd\n",
    "from   pathlib import Path\n",
    "from   pprint import pprint\n",
    "import seaborn as sns\n",
    "\n",
    "%matplotlib inline"
   ]
  },
  {
   "cell_type": "code",
   "execution_count": 2,
   "metadata": {},
   "outputs": [],
   "source": [
    "csv_path = Path(\"../data/survey_results_public.csv\")\n",
    "schema_path = Path(\"../data/survey_results_schema.csv\")"
   ]
  },
  {
   "cell_type": "code",
   "execution_count": 3,
   "metadata": {},
   "outputs": [],
   "source": [
    "df = pd.read_csv(csv_path, low_memory=False)\n",
    "schema = pd.read_csv(schema_path)"
   ]
  },
  {
   "cell_type": "code",
   "execution_count": 4,
   "metadata": {},
   "outputs": [],
   "source": [
    "is_phd = df.FormalEducation.fillna('Not reported').str.contains('Other doctoral degree')\n",
    "is_compsci = df.UndergradMajor.fillna('Not reported').str.contains('Computer science')\n",
    "\n",
    "cols = [\n",
    "    'CompanySize',         #check\n",
    "    'DevType',             #oh yeah\n",
    "    'YearsCoding',         #check\n",
    "    'YearsCodingProf',     #check\n",
    "    'ConvertedSalary',\n",
    "    'EducationTypes',      #uh huh\n",
    "    'LanguageWorkedWith',  #yup\n",
    "    'WakeTime',            #check\n",
    "    'HoursComputer',       #check\n",
    "    'HoursOutside',        #check\n",
    "    'SkipMeals',           #check\n",
    "    'Exercise',            #check\n",
    "    'Age',                 #check\n",
    "    'Dependents',          #check\n",
    "]\n",
    "\n",
    "df1 = df.loc[is_phd & ~is_compsci, cols]"
   ]
  },
  {
   "cell_type": "code",
   "execution_count": 5,
   "metadata": {},
   "outputs": [
    {
     "data": {
      "text/plain": [
       "(1449, 14)"
      ]
     },
     "execution_count": 5,
     "metadata": {},
     "output_type": "execute_result"
    }
   ],
   "source": [
    "df1.shape"
   ]
  },
  {
   "cell_type": "code",
   "execution_count": 6,
   "metadata": {},
   "outputs": [
    {
     "data": {
      "text/plain": [
       "CompanySize           299\n",
       "DevType               131\n",
       "YearsCoding            36\n",
       "YearsCodingProf       320\n",
       "ConvertedSalary       666\n",
       "EducationTypes        255\n",
       "LanguageWorkedWith    165\n",
       "WakeTime              219\n",
       "HoursComputer         220\n",
       "HoursOutside          223\n",
       "SkipMeals             222\n",
       "Exercise              220\n",
       "Age                   310\n",
       "Dependents            346\n",
       "dtype: int64"
      ]
     },
     "execution_count": 6,
     "metadata": {},
     "output_type": "execute_result"
    }
   ],
   "source": [
    "df1.isnull().sum()"
   ]
  },
  {
   "cell_type": "code",
   "execution_count": 7,
   "metadata": {},
   "outputs": [
    {
     "data": {
      "text/plain": [
       "32"
      ]
     },
     "execution_count": 7,
     "metadata": {},
     "output_type": "execute_result"
    }
   ],
   "source": [
    "df1.isnull().all(axis=1).sum()"
   ]
  },
  {
   "cell_type": "code",
   "execution_count": 8,
   "metadata": {},
   "outputs": [],
   "source": [
    "df1 = df1.dropna(axis=0, how='all')\n",
    "df1 = df1.dropna(axis=0, how='any', subset=['ConvertedSalary'])\n",
    "df1 = df1.reset_index()"
   ]
  },
  {
   "cell_type": "code",
   "execution_count": 9,
   "metadata": {},
   "outputs": [
    {
     "data": {
      "text/html": [
       "<div>\n",
       "<style scoped>\n",
       "    .dataframe tbody tr th:only-of-type {\n",
       "        vertical-align: middle;\n",
       "    }\n",
       "\n",
       "    .dataframe tbody tr th {\n",
       "        vertical-align: top;\n",
       "    }\n",
       "\n",
       "    .dataframe thead th {\n",
       "        text-align: right;\n",
       "    }\n",
       "</style>\n",
       "<table border=\"1\" class=\"dataframe\">\n",
       "  <thead>\n",
       "    <tr style=\"text-align: right;\">\n",
       "      <th></th>\n",
       "      <th>index</th>\n",
       "      <th>CompanySize</th>\n",
       "      <th>DevType</th>\n",
       "      <th>YearsCoding</th>\n",
       "      <th>YearsCodingProf</th>\n",
       "      <th>ConvertedSalary</th>\n",
       "      <th>EducationTypes</th>\n",
       "      <th>LanguageWorkedWith</th>\n",
       "      <th>WakeTime</th>\n",
       "      <th>HoursComputer</th>\n",
       "      <th>HoursOutside</th>\n",
       "      <th>SkipMeals</th>\n",
       "      <th>Exercise</th>\n",
       "      <th>Age</th>\n",
       "      <th>Dependents</th>\n",
       "    </tr>\n",
       "  </thead>\n",
       "  <tbody>\n",
       "    <tr>\n",
       "      <th>0</th>\n",
       "      <td>236</td>\n",
       "      <td>1,000 to 4,999 employees</td>\n",
       "      <td>Designer;Embedded applications or devices deve...</td>\n",
       "      <td>9-11 years</td>\n",
       "      <td>9-11 years</td>\n",
       "      <td>440592.0</td>\n",
       "      <td>Received on-the-job training in software devel...</td>\n",
       "      <td>Assembly;C;C++;Matlab;Python;Bash/Shell</td>\n",
       "      <td>Between 6:01 - 7:00 AM</td>\n",
       "      <td>9 - 12 hours</td>\n",
       "      <td>3 - 4 hours</td>\n",
       "      <td>Never</td>\n",
       "      <td>Daily or almost every day</td>\n",
       "      <td>35 - 44 years old</td>\n",
       "      <td>Yes</td>\n",
       "    </tr>\n",
       "    <tr>\n",
       "      <th>1</th>\n",
       "      <td>347</td>\n",
       "      <td>100 to 499 employees</td>\n",
       "      <td>Data scientist or machine learning specialist</td>\n",
       "      <td>15-17 years</td>\n",
       "      <td>9-11 years</td>\n",
       "      <td>113000.0</td>\n",
       "      <td>Taken an online course in programming or softw...</td>\n",
       "      <td>Groovy;Python;R;SQL;HTML;CSS;Bash/Shell</td>\n",
       "      <td>Between 6:01 - 7:00 AM</td>\n",
       "      <td>5 - 8 hours</td>\n",
       "      <td>30 - 59 minutes</td>\n",
       "      <td>1 - 2 times per week</td>\n",
       "      <td>I don't typically exercise</td>\n",
       "      <td>35 - 44 years old</td>\n",
       "      <td>Yes</td>\n",
       "    </tr>\n",
       "    <tr>\n",
       "      <th>2</th>\n",
       "      <td>390</td>\n",
       "      <td>10 to 19 employees</td>\n",
       "      <td>Back-end developer;Database administrator;Fron...</td>\n",
       "      <td>6-8 years</td>\n",
       "      <td>3-5 years</td>\n",
       "      <td>80000.0</td>\n",
       "      <td>Taught yourself a new language, framework, or ...</td>\n",
       "      <td>JavaScript;Python;SQL;HTML;CSS;Bash/Shell</td>\n",
       "      <td>Between 6:01 - 7:00 AM</td>\n",
       "      <td>9 - 12 hours</td>\n",
       "      <td>30 - 59 minutes</td>\n",
       "      <td>Never</td>\n",
       "      <td>3 - 4 times per week</td>\n",
       "      <td>25 - 34 years old</td>\n",
       "      <td>No</td>\n",
       "    </tr>\n",
       "    <tr>\n",
       "      <th>3</th>\n",
       "      <td>393</td>\n",
       "      <td>20 to 99 employees</td>\n",
       "      <td>Data scientist or machine learning specialist</td>\n",
       "      <td>9-11 years</td>\n",
       "      <td>6-8 years</td>\n",
       "      <td>36720.0</td>\n",
       "      <td>Taken an online course in programming or softw...</td>\n",
       "      <td>C++;Python;R</td>\n",
       "      <td>Between 7:01 - 8:00 AM</td>\n",
       "      <td>9 - 12 hours</td>\n",
       "      <td>1 - 2 hours</td>\n",
       "      <td>Never</td>\n",
       "      <td>3 - 4 times per week</td>\n",
       "      <td>25 - 34 years old</td>\n",
       "      <td>No</td>\n",
       "    </tr>\n",
       "    <tr>\n",
       "      <th>4</th>\n",
       "      <td>398</td>\n",
       "      <td>5,000 to 9,999 employees</td>\n",
       "      <td>Data scientist or machine learning specialist;...</td>\n",
       "      <td>12-14 years</td>\n",
       "      <td>6-8 years</td>\n",
       "      <td>54507.0</td>\n",
       "      <td>Taught yourself a new language, framework, or ...</td>\n",
       "      <td>C++;Julia;Python</td>\n",
       "      <td>Between 7:01 - 8:00 AM</td>\n",
       "      <td>9 - 12 hours</td>\n",
       "      <td>1 - 2 hours</td>\n",
       "      <td>Never</td>\n",
       "      <td>1 - 2 times per week</td>\n",
       "      <td>25 - 34 years old</td>\n",
       "      <td>No</td>\n",
       "    </tr>\n",
       "  </tbody>\n",
       "</table>\n",
       "</div>"
      ],
      "text/plain": [
       "   index               CompanySize  \\\n",
       "0    236  1,000 to 4,999 employees   \n",
       "1    347      100 to 499 employees   \n",
       "2    390        10 to 19 employees   \n",
       "3    393        20 to 99 employees   \n",
       "4    398  5,000 to 9,999 employees   \n",
       "\n",
       "                                             DevType  YearsCoding  \\\n",
       "0  Designer;Embedded applications or devices deve...   9-11 years   \n",
       "1      Data scientist or machine learning specialist  15-17 years   \n",
       "2  Back-end developer;Database administrator;Fron...    6-8 years   \n",
       "3      Data scientist or machine learning specialist   9-11 years   \n",
       "4  Data scientist or machine learning specialist;...  12-14 years   \n",
       "\n",
       "  YearsCodingProf  ConvertedSalary  \\\n",
       "0      9-11 years         440592.0   \n",
       "1      9-11 years         113000.0   \n",
       "2       3-5 years          80000.0   \n",
       "3       6-8 years          36720.0   \n",
       "4       6-8 years          54507.0   \n",
       "\n",
       "                                      EducationTypes  \\\n",
       "0  Received on-the-job training in software devel...   \n",
       "1  Taken an online course in programming or softw...   \n",
       "2  Taught yourself a new language, framework, or ...   \n",
       "3  Taken an online course in programming or softw...   \n",
       "4  Taught yourself a new language, framework, or ...   \n",
       "\n",
       "                          LanguageWorkedWith                WakeTime  \\\n",
       "0    Assembly;C;C++;Matlab;Python;Bash/Shell  Between 6:01 - 7:00 AM   \n",
       "1    Groovy;Python;R;SQL;HTML;CSS;Bash/Shell  Between 6:01 - 7:00 AM   \n",
       "2  JavaScript;Python;SQL;HTML;CSS;Bash/Shell  Between 6:01 - 7:00 AM   \n",
       "3                               C++;Python;R  Between 7:01 - 8:00 AM   \n",
       "4                           C++;Julia;Python  Between 7:01 - 8:00 AM   \n",
       "\n",
       "  HoursComputer     HoursOutside             SkipMeals  \\\n",
       "0  9 - 12 hours      3 - 4 hours                 Never   \n",
       "1   5 - 8 hours  30 - 59 minutes  1 - 2 times per week   \n",
       "2  9 - 12 hours  30 - 59 minutes                 Never   \n",
       "3  9 - 12 hours      1 - 2 hours                 Never   \n",
       "4  9 - 12 hours      1 - 2 hours                 Never   \n",
       "\n",
       "                     Exercise                Age Dependents  \n",
       "0   Daily or almost every day  35 - 44 years old        Yes  \n",
       "1  I don't typically exercise  35 - 44 years old        Yes  \n",
       "2        3 - 4 times per week  25 - 34 years old         No  \n",
       "3        3 - 4 times per week  25 - 34 years old         No  \n",
       "4        1 - 2 times per week  25 - 34 years old         No  "
      ]
     },
     "execution_count": 9,
     "metadata": {},
     "output_type": "execute_result"
    }
   ],
   "source": [
    "df1.head()"
   ]
  },
  {
   "cell_type": "code",
   "execution_count": 10,
   "metadata": {},
   "outputs": [
    {
     "data": {
      "text/plain": [
       "(783, 15)"
      ]
     },
     "execution_count": 10,
     "metadata": {},
     "output_type": "execute_result"
    }
   ],
   "source": [
    "df1.shape"
   ]
  },
  {
   "cell_type": "code",
   "execution_count": 11,
   "metadata": {},
   "outputs": [
    {
     "name": "stdout",
     "output_type": "stream",
     "text": [
      "['1,000 to 4,999 employees',\n",
      " '100 to 499 employees',\n",
      " '10 to 19 employees',\n",
      " '20 to 99 employees',\n",
      " '5,000 to 9,999 employees',\n",
      " '500 to 999 employees',\n",
      " '10,000 or more employees',\n",
      " 'Fewer than 10 employees',\n",
      " nan]\n"
     ]
    }
   ],
   "source": [
    "pprint(list(df1.CompanySize.unique()))"
   ]
  },
  {
   "cell_type": "code",
   "execution_count": 12,
   "metadata": {},
   "outputs": [
    {
     "data": {
      "image/png": "[encoded data removed]",
      "text/plain": [
       "<Figure size 432x288 with 1 Axes>"
      ]
     },
     "metadata": {
      "needs_background": "light"
     },
     "output_type": "display_data"
    }
   ],
   "source": [
    "company_size_mapping = {\n",
    "    'Fewer than 10 employees': 0,\n",
    "    '10 to 19 employees': 1,\n",
    "    '20 to 99 employees': 2,\n",
    "    '100 to 499 employees': 3,\n",
    "    '500 to 999 employees': 4,\n",
    "    '1,000 to 4,999 employees': 5,\n",
    "    '5,000 to 9,999 employees': 6,\n",
    "    '10,000 or more employees': 7,\n",
    "    np.nan: np.nan,\n",
    "}\n",
    "\n",
    "company_size = df1.CompanySize.map(company_size_mapping)\n",
    "company_size = company_size.fillna(company_size.median())\n",
    "\n",
    "sns.barplot(x=company_size.value_counts().index, y=company_size.value_counts(), color='royalblue')\n",
    "plt.show()"
   ]
  },
  {
   "cell_type": "code",
   "execution_count": 13,
   "metadata": {},
   "outputs": [
    {
     "name": "stdout",
     "output_type": "stream",
     "text": [
      "['9-11 years',\n",
      " '15-17 years',\n",
      " '6-8 years',\n",
      " '12-14 years',\n",
      " '21-23 years',\n",
      " '3-5 years',\n",
      " '30 or more years',\n",
      " '18-20 years',\n",
      " '24-26 years',\n",
      " '27-29 years',\n",
      " '0-2 years']\n"
     ]
    }
   ],
   "source": [
    "pprint(list(df1.YearsCoding.unique()))"
   ]
  },
  {
   "cell_type": "code",
   "execution_count": 14,
   "metadata": {},
   "outputs": [
    {
     "data": {
      "image/png": "[encoded data removed]",
      "text/plain": [
       "<Figure size 432x288 with 1 Axes>"
      ]
     },
     "metadata": {
      "needs_background": "light"
     },
     "output_type": "display_data"
    }
   ],
   "source": [
    "years_coding_mapping = {\n",
    "    '0-2 years': 0,\n",
    "    '3-5 years': 1,\n",
    "    '6-8 years': 2,\n",
    "    '9-11 years': 3,\n",
    "    '12-14 years': 4,\n",
    "    '15-17 years': 5,\n",
    "    '18-20 years': 6,\n",
    "    '21-23 years': 6,\n",
    "    '24-26 years': 7,\n",
    "    '27-29 years': 8,\n",
    "    '30 or more years': 9,\n",
    "    np.nan: np.nan,\n",
    "}\n",
    "\n",
    "years_coding = df1.YearsCoding.map(years_coding_mapping)\n",
    "years_coding = years_coding.fillna(years_coding.median())\n",
    "\n",
    "sns.barplot(x=years_coding.value_counts().index, y=years_coding.value_counts(), color='royalblue')\n",
    "plt.show()"
   ]
  },
  {
   "cell_type": "code",
   "execution_count": 15,
   "metadata": {},
   "outputs": [
    {
     "data": {
      "image/png": "[encoded data removed]",
      "text/plain": [
       "<Figure size 432x288 with 1 Axes>"
      ]
     },
     "metadata": {
      "needs_background": "light"
     },
     "output_type": "display_data"
    }
   ],
   "source": [
    "years_coding_prof = df1.YearsCodingProf.map(years_coding_mapping)\n",
    "years_coding_prof = years_coding_prof.fillna(years_coding_prof.median())\n",
    "\n",
    "sns.barplot(x=years_coding_prof.value_counts().index, y=years_coding_prof.value_counts(), color='royalblue')\n",
    "plt.show()"
   ]
  },
  {
   "cell_type": "code",
   "execution_count": 16,
   "metadata": {},
   "outputs": [
    {
     "name": "stdout",
     "output_type": "stream",
     "text": [
      "['Between 6:01 - 7:00 AM',\n",
      " 'Between 7:01 - 8:00 AM',\n",
      " 'Between 9:01 - 10:00 AM',\n",
      " 'Between 8:01 - 9:00 AM',\n",
      " nan,\n",
      " 'Between 5:00 - 6:00 AM',\n",
      " 'Before 5:00 AM',\n",
      " 'I do not have a set schedule',\n",
      " 'Between 10:01 - 11:00 AM',\n",
      " 'Between 11:01 AM - 12:00 PM',\n",
      " 'After 12:01 PM',\n",
      " 'I work night shifts']\n"
     ]
    }
   ],
   "source": [
    "pprint(list(df1.WakeTime.unique()))"
   ]
  },
  {
   "cell_type": "code",
   "execution_count": 17,
   "metadata": {},
   "outputs": [
    {
     "data": {
      "image/png": "[encoded data removed]",
      "text/plain": [
       "<Figure size 432x288 with 1 Axes>"
      ]
     },
     "metadata": {
      "needs_background": "light"
     },
     "output_type": "display_data"
    }
   ],
   "source": [
    "wake_time_mapping = {\n",
    "    'Before 5:00 AM': 0,\n",
    "    'Between 5:00 - 6:00 AM': 1,\n",
    "    'Between 6:01 - 7:00 AM': 2,\n",
    "    'Between 7:01 - 8:00 AM': 3,\n",
    "    'Between 8:01 - 9:00 AM': 4,\n",
    "    'Between 9:01 - 10:00 AM': 5,\n",
    "    'Between 10:01 - 11:00 AM': 6,\n",
    "    'Between 11:01 AM - 12:00 PM': 7,\n",
    "    'After 12:01 PM': 8,\n",
    "    'I work night shifts': 9,\n",
    "    'I do not have a set schedule': np.nan,\n",
    "    np.nan: np.nan,\n",
    "}\n",
    "\n",
    "wake_time = df1.WakeTime.map(wake_time_mapping)\n",
    "wake_time = wake_time.fillna(wake_time.median())\n",
    "\n",
    "sns.barplot(x=wake_time.value_counts().index, y=wake_time.value_counts(), color='royalblue')\n",
    "plt.show()"
   ]
  },
  {
   "cell_type": "code",
   "execution_count": 18,
   "metadata": {},
   "outputs": [
    {
     "name": "stdout",
     "output_type": "stream",
     "text": [
      "['9 - 12 hours', '5 - 8 hours', nan, '1 - 4 hours', 'Over 12 hours']\n"
     ]
    }
   ],
   "source": [
    "pprint(list(df1.HoursComputer.unique()))"
   ]
  },
  {
   "cell_type": "code",
   "execution_count": 19,
   "metadata": {},
   "outputs": [
    {
     "data": {
      "image/png": "[encoded data removed]",
      "text/plain": [
       "<Figure size 432x288 with 1 Axes>"
      ]
     },
     "metadata": {
      "needs_background": "light"
     },
     "output_type": "display_data"
    }
   ],
   "source": [
    "hours_computer_mapping = {\n",
    "    'Less than 1 hour': 0,\n",
    "    '1 - 4 hours': 1,\n",
    "    '5 - 8 hours': 2,\n",
    "    '9 - 12 hours': 3,\n",
    "    'Over 12 hours': 4,\n",
    "    np.nan: np.nan,\n",
    "}\n",
    "\n",
    "hours_computer = df1.HoursComputer.map(hours_computer_mapping)\n",
    "hours_computer = hours_computer.fillna(hours_computer.median())\n",
    "\n",
    "sns.barplot(x=hours_computer.value_counts().index, y=hours_computer.value_counts(), color='royalblue')\n",
    "plt.show()"
   ]
  },
  {
   "cell_type": "code",
   "execution_count": 20,
   "metadata": {},
   "outputs": [
    {
     "name": "stdout",
     "output_type": "stream",
     "text": [
      "['3 - 4 hours',\n",
      " '30 - 59 minutes',\n",
      " '1 - 2 hours',\n",
      " 'Less than 30 minutes',\n",
      " nan,\n",
      " 'Over 4 hours']\n"
     ]
    }
   ],
   "source": [
    "pprint(list(df1.HoursOutside.unique()))"
   ]
  },
  {
   "cell_type": "code",
   "execution_count": 21,
   "metadata": {},
   "outputs": [
    {
     "data": {
      "image/png": "[encoded data removed]",
      "text/plain": [
       "<Figure size 432x288 with 1 Axes>"
      ]
     },
     "metadata": {
      "needs_background": "light"
     },
     "output_type": "display_data"
    }
   ],
   "source": [
    "hours_outside_mapping = {\n",
    "    'Less than 30 minutes': 0,\n",
    "    '30 - 59 minutes': 1,\n",
    "    '1 - 2 hours': 2,\n",
    "    '3 - 4 hours': 3,\n",
    "    'Over 4 hours': 4,\n",
    "    np.nan: np.nan,\n",
    "}\n",
    "\n",
    "hours_outside = df1.HoursOutside.map(hours_outside_mapping)\n",
    "hours_outside = hours_outside.fillna(hours_outside.median())\n",
    "\n",
    "sns.barplot(x=hours_outside.value_counts().index, y=hours_outside.value_counts(), color='royalblue')\n",
    "plt.show()"
   ]
  },
  {
   "cell_type": "code",
   "execution_count": 22,
   "metadata": {},
   "outputs": [
    {
     "name": "stdout",
     "output_type": "stream",
     "text": [
      "['Never',\n",
      " '1 - 2 times per week',\n",
      " nan,\n",
      " '3 - 4 times per week',\n",
      " 'Daily or almost every day']\n"
     ]
    }
   ],
   "source": [
    "pprint(list(df1.SkipMeals.unique()))"
   ]
  },
  {
   "cell_type": "code",
   "execution_count": 23,
   "metadata": {},
   "outputs": [
    {
     "data": {
      "image/png": "[encoded data removed]",
      "text/plain": [
       "<Figure size 432x288 with 1 Axes>"
      ]
     },
     "metadata": {
      "needs_background": "light"
     },
     "output_type": "display_data"
    }
   ],
   "source": [
    "skip_meals_mapping = {\n",
    "    'Never': 0,\n",
    "    '1 - 2 times per week': 1,\n",
    "    '3 - 4 times per week': 2,\n",
    "    'Daily or almost every day': 3,\n",
    "    np.nan: np.nan,\n",
    "}\n",
    "\n",
    "skip_meals = df1.SkipMeals.map(skip_meals_mapping)\n",
    "skip_meals = skip_meals.fillna(skip_meals.median())\n",
    "\n",
    "sns.barplot(x=skip_meals.value_counts().index, y=skip_meals.value_counts(), color='royalblue')\n",
    "plt.show()"
   ]
  },
  {
   "cell_type": "code",
   "execution_count": 24,
   "metadata": {},
   "outputs": [
    {
     "name": "stdout",
     "output_type": "stream",
     "text": [
      "['Daily or almost every day',\n",
      " \"I don't typically exercise\",\n",
      " '3 - 4 times per week',\n",
      " '1 - 2 times per week',\n",
      " nan]\n"
     ]
    }
   ],
   "source": [
    "pprint(list(df1.Exercise.unique()))"
   ]
  },
  {
   "cell_type": "code",
   "execution_count": 25,
   "metadata": {},
   "outputs": [
    {
     "data": {
      "image/png": "[encoded data removed]",
      "text/plain": [
       "<Figure size 432x288 with 1 Axes>"
      ]
     },
     "metadata": {
      "needs_background": "light"
     },
     "output_type": "display_data"
    }
   ],
   "source": [
    "exercise_mapping = {\n",
    "    \"I don't typically exercise\": 0,\n",
    "    '1 - 2 times per week': 1,\n",
    "    '3 - 4 times per week': 2,\n",
    "    'Daily or almost every day': 3,\n",
    "     np.nan: np.nan,\n",
    "}\n",
    "\n",
    "exercise = df1.Exercise.map(exercise_mapping)\n",
    "exercise = exercise.fillna(exercise.median())\n",
    "\n",
    "sns.barplot(x=exercise.value_counts().index, y=exercise.value_counts(), color='royalblue')\n",
    "plt.show()"
   ]
  },
  {
   "cell_type": "code",
   "execution_count": 26,
   "metadata": {},
   "outputs": [
    {
     "name": "stdout",
     "output_type": "stream",
     "text": [
      "['35 - 44 years old',\n",
      " '25 - 34 years old',\n",
      " '45 - 54 years old',\n",
      " nan,\n",
      " '55 - 64 years old',\n",
      " '65 years or older',\n",
      " '18 - 24 years old']\n"
     ]
    }
   ],
   "source": [
    "pprint(list(df1.Age.unique()))"
   ]
  },
  {
   "cell_type": "code",
   "execution_count": 27,
   "metadata": {},
   "outputs": [
    {
     "data": {
      "image/png": "[encoded data removed]",
      "text/plain": [
       "<Figure size 432x288 with 1 Axes>"
      ]
     },
     "metadata": {
      "needs_background": "light"
     },
     "output_type": "display_data"
    }
   ],
   "source": [
    "age_mapping = {\n",
    "    'Under 18 years old': 0,\n",
    "    '18 - 24 years old': 1,\n",
    "    '25 - 34 years old': 2,\n",
    "    '35 - 44 years old': 3,\n",
    "    '45 - 54 years old': 4,\n",
    "    '55 - 64 years old': 5,\n",
    "    '65 years or older': 6,\n",
    "    np.nan: np.nan, \n",
    "}\n",
    "\n",
    "age = df1.Age.map(age_mapping)\n",
    "age = age.fillna(age.median())\n",
    "\n",
    "sns.barplot(x=age.value_counts().index, y=age.value_counts(), color='royalblue')\n",
    "plt.show()"
   ]
  },
  {
   "cell_type": "code",
   "execution_count": 28,
   "metadata": {},
   "outputs": [
    {
     "name": "stdout",
     "output_type": "stream",
     "text": [
      "['Yes', 'No', nan]\n"
     ]
    }
   ],
   "source": [
    "pprint(list(df1.Dependents.unique()))"
   ]
  },
  {
   "cell_type": "code",
   "execution_count": 29,
   "metadata": {},
   "outputs": [],
   "source": [
    "dependents = pd.get_dummies(df1.Dependents, prefix='Dependents')"
   ]
  },
  {
   "cell_type": "code",
   "execution_count": 30,
   "metadata": {},
   "outputs": [
    {
     "data": {
      "text/plain": [
       "Counter({'Designer': 55,\n",
       "         'Embedded applications or devices developer': 38,\n",
       "         'Data scientist or machine learning specialist': 382,\n",
       "         'Back-end developer': 319,\n",
       "         'Database administrator': 67,\n",
       "         'Front-end developer': 124,\n",
       "         'Full-stack developer': 226,\n",
       "         'System administrator': 87,\n",
       "         'Educator or academic researcher': 189,\n",
       "         'Data or business analyst': 162,\n",
       "         'Desktop or enterprise applications developer': 123,\n",
       "         'Engineering manager': 48,\n",
       "         'Product manager': 33,\n",
       "         'DevOps specialist': 56,\n",
       "         'QA or test developer': 37,\n",
       "         'Student': 15,\n",
       "         'C-suite executive (CEO, CTO, etc.)': 26,\n",
       "         'Marketing or sales professional': 6,\n",
       "         'Mobile developer': 57,\n",
       "         'Game or graphics developer': 18})"
      ]
     },
     "execution_count": 30,
     "metadata": {},
     "output_type": "execute_result"
    }
   ],
   "source": [
    "dev_list = []\n",
    "for entry in df1.DevType:\n",
    "    if entry is np.nan:\n",
    "        pass\n",
    "    else:\n",
    "        dev_list.extend(entry.split(';'))\n",
    "\n",
    "dev_counter = Counter(dev_list)\n",
    "dev_type_cols = sorted(dev_counter.keys())\n",
    "dev_counter"
   ]
  },
  {
   "cell_type": "code",
   "execution_count": 31,
   "metadata": {},
   "outputs": [
    {
     "data": {
      "text/html": [
       "<div>\n",
       "<style scoped>\n",
       "    .dataframe tbody tr th:only-of-type {\n",
       "        vertical-align: middle;\n",
       "    }\n",
       "\n",
       "    .dataframe tbody tr th {\n",
       "        vertical-align: top;\n",
       "    }\n",
       "\n",
       "    .dataframe thead th {\n",
       "        text-align: right;\n",
       "    }\n",
       "</style>\n",
       "<table border=\"1\" class=\"dataframe\">\n",
       "  <thead>\n",
       "    <tr style=\"text-align: right;\">\n",
       "      <th></th>\n",
       "      <th>Back-end developer</th>\n",
       "      <th>C-suite executive (CEO, CTO, etc.)</th>\n",
       "      <th>Data or business analyst</th>\n",
       "      <th>Data scientist or machine learning specialist</th>\n",
       "      <th>Database administrator</th>\n",
       "      <th>Designer</th>\n",
       "      <th>Desktop or enterprise applications developer</th>\n",
       "      <th>DevOps specialist</th>\n",
       "      <th>Educator or academic researcher</th>\n",
       "      <th>Embedded applications or devices developer</th>\n",
       "      <th>Engineering manager</th>\n",
       "      <th>Front-end developer</th>\n",
       "      <th>Full-stack developer</th>\n",
       "      <th>Game or graphics developer</th>\n",
       "      <th>Marketing or sales professional</th>\n",
       "      <th>Mobile developer</th>\n",
       "      <th>Product manager</th>\n",
       "      <th>QA or test developer</th>\n",
       "      <th>Student</th>\n",
       "      <th>System administrator</th>\n",
       "    </tr>\n",
       "  </thead>\n",
       "  <tbody>\n",
       "    <tr>\n",
       "      <th>0</th>\n",
       "      <td>0</td>\n",
       "      <td>0</td>\n",
       "      <td>0</td>\n",
       "      <td>0</td>\n",
       "      <td>0</td>\n",
       "      <td>1</td>\n",
       "      <td>0</td>\n",
       "      <td>0</td>\n",
       "      <td>0</td>\n",
       "      <td>1</td>\n",
       "      <td>0</td>\n",
       "      <td>0</td>\n",
       "      <td>0</td>\n",
       "      <td>0</td>\n",
       "      <td>0</td>\n",
       "      <td>0</td>\n",
       "      <td>0</td>\n",
       "      <td>0</td>\n",
       "      <td>0</td>\n",
       "      <td>0</td>\n",
       "    </tr>\n",
       "    <tr>\n",
       "      <th>1</th>\n",
       "      <td>0</td>\n",
       "      <td>0</td>\n",
       "      <td>0</td>\n",
       "      <td>1</td>\n",
       "      <td>0</td>\n",
       "      <td>0</td>\n",
       "      <td>0</td>\n",
       "      <td>0</td>\n",
       "      <td>0</td>\n",
       "      <td>0</td>\n",
       "      <td>0</td>\n",
       "      <td>0</td>\n",
       "      <td>0</td>\n",
       "      <td>0</td>\n",
       "      <td>0</td>\n",
       "      <td>0</td>\n",
       "      <td>0</td>\n",
       "      <td>0</td>\n",
       "      <td>0</td>\n",
       "      <td>0</td>\n",
       "    </tr>\n",
       "    <tr>\n",
       "      <th>2</th>\n",
       "      <td>1</td>\n",
       "      <td>0</td>\n",
       "      <td>0</td>\n",
       "      <td>0</td>\n",
       "      <td>1</td>\n",
       "      <td>0</td>\n",
       "      <td>0</td>\n",
       "      <td>0</td>\n",
       "      <td>0</td>\n",
       "      <td>0</td>\n",
       "      <td>0</td>\n",
       "      <td>1</td>\n",
       "      <td>1</td>\n",
       "      <td>0</td>\n",
       "      <td>0</td>\n",
       "      <td>0</td>\n",
       "      <td>0</td>\n",
       "      <td>0</td>\n",
       "      <td>0</td>\n",
       "      <td>1</td>\n",
       "    </tr>\n",
       "    <tr>\n",
       "      <th>3</th>\n",
       "      <td>0</td>\n",
       "      <td>0</td>\n",
       "      <td>0</td>\n",
       "      <td>1</td>\n",
       "      <td>0</td>\n",
       "      <td>0</td>\n",
       "      <td>0</td>\n",
       "      <td>0</td>\n",
       "      <td>0</td>\n",
       "      <td>0</td>\n",
       "      <td>0</td>\n",
       "      <td>0</td>\n",
       "      <td>0</td>\n",
       "      <td>0</td>\n",
       "      <td>0</td>\n",
       "      <td>0</td>\n",
       "      <td>0</td>\n",
       "      <td>0</td>\n",
       "      <td>0</td>\n",
       "      <td>0</td>\n",
       "    </tr>\n",
       "    <tr>\n",
       "      <th>4</th>\n",
       "      <td>0</td>\n",
       "      <td>0</td>\n",
       "      <td>0</td>\n",
       "      <td>1</td>\n",
       "      <td>0</td>\n",
       "      <td>0</td>\n",
       "      <td>0</td>\n",
       "      <td>0</td>\n",
       "      <td>1</td>\n",
       "      <td>0</td>\n",
       "      <td>0</td>\n",
       "      <td>0</td>\n",
       "      <td>0</td>\n",
       "      <td>0</td>\n",
       "      <td>0</td>\n",
       "      <td>0</td>\n",
       "      <td>0</td>\n",
       "      <td>0</td>\n",
       "      <td>0</td>\n",
       "      <td>0</td>\n",
       "    </tr>\n",
       "  </tbody>\n",
       "</table>\n",
       "</div>"
      ],
      "text/plain": [
       "   Back-end developer  C-suite executive (CEO, CTO, etc.)  \\\n",
       "0                   0                                   0   \n",
       "1                   0                                   0   \n",
       "2                   1                                   0   \n",
       "3                   0                                   0   \n",
       "4                   0                                   0   \n",
       "\n",
       "   Data or business analyst  Data scientist or machine learning specialist  \\\n",
       "0                         0                                              0   \n",
       "1                         0                                              1   \n",
       "2                         0                                              0   \n",
       "3                         0                                              1   \n",
       "4                         0                                              1   \n",
       "\n",
       "   Database administrator  Designer  \\\n",
       "0                       0         1   \n",
       "1                       0         0   \n",
       "2                       1         0   \n",
       "3                       0         0   \n",
       "4                       0         0   \n",
       "\n",
       "   Desktop or enterprise applications developer  DevOps specialist  \\\n",
       "0                                             0                  0   \n",
       "1                                             0                  0   \n",
       "2                                             0                  0   \n",
       "3                                             0                  0   \n",
       "4                                             0                  0   \n",
       "\n",
       "   Educator or academic researcher  \\\n",
       "0                                0   \n",
       "1                                0   \n",
       "2                                0   \n",
       "3                                0   \n",
       "4                                1   \n",
       "\n",
       "   Embedded applications or devices developer  Engineering manager  \\\n",
       "0                                           1                    0   \n",
       "1                                           0                    0   \n",
       "2                                           0                    0   \n",
       "3                                           0                    0   \n",
       "4                                           0                    0   \n",
       "\n",
       "   Front-end developer  Full-stack developer  Game or graphics developer  \\\n",
       "0                    0                     0                           0   \n",
       "1                    0                     0                           0   \n",
       "2                    1                     1                           0   \n",
       "3                    0                     0                           0   \n",
       "4                    0                     0                           0   \n",
       "\n",
       "   Marketing or sales professional  Mobile developer  Product manager  \\\n",
       "0                                0                 0                0   \n",
       "1                                0                 0                0   \n",
       "2                                0                 0                0   \n",
       "3                                0                 0                0   \n",
       "4                                0                 0                0   \n",
       "\n",
       "   QA or test developer  Student  System administrator  \n",
       "0                     0        0                     0  \n",
       "1                     0        0                     0  \n",
       "2                     0        0                     1  \n",
       "3                     0        0                     0  \n",
       "4                     0        0                     0  "
      ]
     },
     "execution_count": 31,
     "metadata": {},
     "output_type": "execute_result"
    }
   ],
   "source": [
    "class DefaultEntry:\n",
    "    \n",
    "    def __init__(self, keys, default_value=0):\n",
    "        self._keys = keys\n",
    "        self._default_value = default_value\n",
    "        self._row_dict = {key: default_value for key in keys}\n",
    "        \n",
    "    def to_dict(self):\n",
    "        return self._row_dict\n",
    "\n",
    "    def to_df(self):\n",
    "        return pd.DataFrame(self._row_dict)\n",
    "    \n",
    "    \n",
    "\n",
    "dev_types = []\n",
    "for entry in df1.DevType:\n",
    "    if entry is np.nan:\n",
    "        dev_types.append(DefaultEntry(dev_type_cols).to_dict())\n",
    "    else:\n",
    "        new_entry = DefaultEntry(dev_type_cols).to_dict()\n",
    "        new_entry.update(dict(Counter(entry.split(';'))))\n",
    "        dev_types.append(new_entry)\n",
    "        \n",
    "dev_types = pd.DataFrame(dev_types)\n",
    "\n",
    "dev_types.head()"
   ]
  },
  {
   "cell_type": "code",
   "execution_count": 32,
   "metadata": {},
   "outputs": [
    {
     "data": {
      "text/plain": [
       "Counter({'Received on-the-job training in software development': 275,\n",
       "         'Participated in a hackathon': 176,\n",
       "         'Contributed to open source software': 403,\n",
       "         'Taken an online course in programming or software development (e.g. a MOOC)': 396,\n",
       "         'Taught yourself a new language, framework, or tool without taking a formal course': 708,\n",
       "         'Taken a part-time in-person course in programming or software development': 111,\n",
       "         'Participated in online coding competitions (e.g. HackerRank, CodeChef, TopCoder)': 138,\n",
       "         'Completed an industry certification program (e.g. MCPD)': 61,\n",
       "         'Participated in a full-time developer training program or bootcamp': 59})"
      ]
     },
     "execution_count": 32,
     "metadata": {},
     "output_type": "execute_result"
    }
   ],
   "source": [
    "education_list = []\n",
    "for entry in df1.EducationTypes:\n",
    "    if entry is np.nan:\n",
    "        pass\n",
    "    else:\n",
    "        education_list.extend(entry.split(';'))\n",
    "\n",
    "education_counter = Counter(education_list)\n",
    "education_cols = sorted(education_counter.keys())\n",
    "education_counter"
   ]
  },
  {
   "cell_type": "code",
   "execution_count": 33,
   "metadata": {},
   "outputs": [
    {
     "data": {
      "text/html": [
       "<div>\n",
       "<style scoped>\n",
       "    .dataframe tbody tr th:only-of-type {\n",
       "        vertical-align: middle;\n",
       "    }\n",
       "\n",
       "    .dataframe tbody tr th {\n",
       "        vertical-align: top;\n",
       "    }\n",
       "\n",
       "    .dataframe thead th {\n",
       "        text-align: right;\n",
       "    }\n",
       "</style>\n",
       "<table border=\"1\" class=\"dataframe\">\n",
       "  <thead>\n",
       "    <tr style=\"text-align: right;\">\n",
       "      <th></th>\n",
       "      <th>Completed an industry certification program (e.g. MCPD)</th>\n",
       "      <th>Contributed to open source software</th>\n",
       "      <th>Participated in a full-time developer training program or bootcamp</th>\n",
       "      <th>Participated in a hackathon</th>\n",
       "      <th>Participated in online coding competitions (e.g. HackerRank, CodeChef, TopCoder)</th>\n",
       "      <th>Received on-the-job training in software development</th>\n",
       "      <th>Taken a part-time in-person course in programming or software development</th>\n",
       "      <th>Taken an online course in programming or software development (e.g. a MOOC)</th>\n",
       "      <th>Taught yourself a new language, framework, or tool without taking a formal course</th>\n",
       "    </tr>\n",
       "  </thead>\n",
       "  <tbody>\n",
       "    <tr>\n",
       "      <th>0</th>\n",
       "      <td>0</td>\n",
       "      <td>1</td>\n",
       "      <td>0</td>\n",
       "      <td>1</td>\n",
       "      <td>0</td>\n",
       "      <td>1</td>\n",
       "      <td>0</td>\n",
       "      <td>0</td>\n",
       "      <td>0</td>\n",
       "    </tr>\n",
       "    <tr>\n",
       "      <th>1</th>\n",
       "      <td>0</td>\n",
       "      <td>0</td>\n",
       "      <td>0</td>\n",
       "      <td>0</td>\n",
       "      <td>0</td>\n",
       "      <td>1</td>\n",
       "      <td>0</td>\n",
       "      <td>1</td>\n",
       "      <td>1</td>\n",
       "    </tr>\n",
       "    <tr>\n",
       "      <th>2</th>\n",
       "      <td>0</td>\n",
       "      <td>1</td>\n",
       "      <td>0</td>\n",
       "      <td>0</td>\n",
       "      <td>0</td>\n",
       "      <td>0</td>\n",
       "      <td>0</td>\n",
       "      <td>0</td>\n",
       "      <td>1</td>\n",
       "    </tr>\n",
       "    <tr>\n",
       "      <th>3</th>\n",
       "      <td>0</td>\n",
       "      <td>0</td>\n",
       "      <td>0</td>\n",
       "      <td>0</td>\n",
       "      <td>0</td>\n",
       "      <td>0</td>\n",
       "      <td>0</td>\n",
       "      <td>1</td>\n",
       "      <td>0</td>\n",
       "    </tr>\n",
       "    <tr>\n",
       "      <th>4</th>\n",
       "      <td>0</td>\n",
       "      <td>0</td>\n",
       "      <td>0</td>\n",
       "      <td>0</td>\n",
       "      <td>0</td>\n",
       "      <td>0</td>\n",
       "      <td>0</td>\n",
       "      <td>0</td>\n",
       "      <td>1</td>\n",
       "    </tr>\n",
       "  </tbody>\n",
       "</table>\n",
       "</div>"
      ],
      "text/plain": [
       "   Completed an industry certification program (e.g. MCPD)  \\\n",
       "0                                                  0         \n",
       "1                                                  0         \n",
       "2                                                  0         \n",
       "3                                                  0         \n",
       "4                                                  0         \n",
       "\n",
       "   Contributed to open source software  \\\n",
       "0                                    1   \n",
       "1                                    0   \n",
       "2                                    1   \n",
       "3                                    0   \n",
       "4                                    0   \n",
       "\n",
       "   Participated in a full-time developer training program or bootcamp  \\\n",
       "0                                                  0                    \n",
       "1                                                  0                    \n",
       "2                                                  0                    \n",
       "3                                                  0                    \n",
       "4                                                  0                    \n",
       "\n",
       "   Participated in a hackathon  \\\n",
       "0                            1   \n",
       "1                            0   \n",
       "2                            0   \n",
       "3                            0   \n",
       "4                            0   \n",
       "\n",
       "   Participated in online coding competitions (e.g. HackerRank, CodeChef, TopCoder)  \\\n",
       "0                                                  0                                  \n",
       "1                                                  0                                  \n",
       "2                                                  0                                  \n",
       "3                                                  0                                  \n",
       "4                                                  0                                  \n",
       "\n",
       "   Received on-the-job training in software development  \\\n",
       "0                                                  1      \n",
       "1                                                  1      \n",
       "2                                                  0      \n",
       "3                                                  0      \n",
       "4                                                  0      \n",
       "\n",
       "   Taken a part-time in-person course in programming or software development  \\\n",
       "0                                                  0                           \n",
       "1                                                  0                           \n",
       "2                                                  0                           \n",
       "3                                                  0                           \n",
       "4                                                  0                           \n",
       "\n",
       "   Taken an online course in programming or software development (e.g. a MOOC)  \\\n",
       "0                                                  0                             \n",
       "1                                                  1                             \n",
       "2                                                  0                             \n",
       "3                                                  1                             \n",
       "4                                                  0                             \n",
       "\n",
       "   Taught yourself a new language, framework, or tool without taking a formal course  \n",
       "0                                                  0                                  \n",
       "1                                                  1                                  \n",
       "2                                                  1                                  \n",
       "3                                                  0                                  \n",
       "4                                                  1                                  "
      ]
     },
     "execution_count": 33,
     "metadata": {},
     "output_type": "execute_result"
    }
   ],
   "source": [
    "education_types = []\n",
    "for entry in df1.EducationTypes:\n",
    "    if entry is np.nan:\n",
    "        education_types.append(DefaultEntry(education_cols).to_dict())\n",
    "    else:\n",
    "        new_entry = DefaultEntry(education_cols).to_dict()\n",
    "        new_entry.update(dict(Counter(entry.split(';'))))\n",
    "        education_types.append(new_entry)\n",
    "        \n",
    "education_types = pd.DataFrame(education_types)\n",
    "\n",
    "education_types.head()"
   ]
  },
  {
   "cell_type": "code",
   "execution_count": 34,
   "metadata": {},
   "outputs": [
    {
     "data": {
      "text/plain": [
       "Counter({'Assembly': 41,\n",
       "         'C': 191,\n",
       "         'C++': 274,\n",
       "         'Matlab': 151,\n",
       "         'Python': 510,\n",
       "         'Bash/Shell': 419,\n",
       "         'Groovy': 23,\n",
       "         'R': 238,\n",
       "         'SQL': 341,\n",
       "         'HTML': 338,\n",
       "         'CSS': 308,\n",
       "         'JavaScript': 331,\n",
       "         'Julia': 33,\n",
       "         'Java': 212,\n",
       "         'C#': 140,\n",
       "         'VB.NET': 17,\n",
       "         'Visual Basic 6': 13,\n",
       "         'Go': 42,\n",
       "         'PHP': 98,\n",
       "         'Scala': 52,\n",
       "         'VBA': 36,\n",
       "         'Objective-C': 35,\n",
       "         'TypeScript': 58,\n",
       "         'F#': 18,\n",
       "         'Ruby': 59,\n",
       "         'Haskell': 31,\n",
       "         'Perl': 65,\n",
       "         'Rust': 18,\n",
       "         'Lua': 23,\n",
       "         'Clojure': 15,\n",
       "         'CoffeeScript': 13,\n",
       "         'Swift': 30,\n",
       "         'Hack': 1,\n",
       "         'Ocaml': 6,\n",
       "         'Kotlin': 21,\n",
       "         'Erlang': 7,\n",
       "         'Delphi/Object Pascal': 17,\n",
       "         'Cobol': 1})"
      ]
     },
     "execution_count": 34,
     "metadata": {},
     "output_type": "execute_result"
    }
   ],
   "source": [
    "language_list = []\n",
    "for entry in df1.LanguageWorkedWith:\n",
    "    if entry is np.nan:\n",
    "        pass\n",
    "    else:\n",
    "        language_list.extend(entry.split(';'))\n",
    "\n",
    "language_counter = Counter(language_list)\n",
    "language_cols = sorted(language_counter.keys())\n",
    "language_counter"
   ]
  },
  {
   "cell_type": "code",
   "execution_count": 35,
   "metadata": {},
   "outputs": [
    {
     "data": {
      "text/html": [
       "<div>\n",
       "<style scoped>\n",
       "    .dataframe tbody tr th:only-of-type {\n",
       "        vertical-align: middle;\n",
       "    }\n",
       "\n",
       "    .dataframe tbody tr th {\n",
       "        vertical-align: top;\n",
       "    }\n",
       "\n",
       "    .dataframe thead th {\n",
       "        text-align: right;\n",
       "    }\n",
       "</style>\n",
       "<table border=\"1\" class=\"dataframe\">\n",
       "  <thead>\n",
       "    <tr style=\"text-align: right;\">\n",
       "      <th></th>\n",
       "      <th>Assembly</th>\n",
       "      <th>Bash/Shell</th>\n",
       "      <th>C</th>\n",
       "      <th>C#</th>\n",
       "      <th>C++</th>\n",
       "      <th>CSS</th>\n",
       "      <th>Clojure</th>\n",
       "      <th>Cobol</th>\n",
       "      <th>CoffeeScript</th>\n",
       "      <th>Delphi/Object Pascal</th>\n",
       "      <th>...</th>\n",
       "      <th>R</th>\n",
       "      <th>Ruby</th>\n",
       "      <th>Rust</th>\n",
       "      <th>SQL</th>\n",
       "      <th>Scala</th>\n",
       "      <th>Swift</th>\n",
       "      <th>TypeScript</th>\n",
       "      <th>VB.NET</th>\n",
       "      <th>VBA</th>\n",
       "      <th>Visual Basic 6</th>\n",
       "    </tr>\n",
       "  </thead>\n",
       "  <tbody>\n",
       "    <tr>\n",
       "      <th>0</th>\n",
       "      <td>1</td>\n",
       "      <td>1</td>\n",
       "      <td>1</td>\n",
       "      <td>0</td>\n",
       "      <td>1</td>\n",
       "      <td>0</td>\n",
       "      <td>0</td>\n",
       "      <td>0</td>\n",
       "      <td>0</td>\n",
       "      <td>0</td>\n",
       "      <td>...</td>\n",
       "      <td>0</td>\n",
       "      <td>0</td>\n",
       "      <td>0</td>\n",
       "      <td>0</td>\n",
       "      <td>0</td>\n",
       "      <td>0</td>\n",
       "      <td>0</td>\n",
       "      <td>0</td>\n",
       "      <td>0</td>\n",
       "      <td>0</td>\n",
       "    </tr>\n",
       "    <tr>\n",
       "      <th>1</th>\n",
       "      <td>0</td>\n",
       "      <td>1</td>\n",
       "      <td>0</td>\n",
       "      <td>0</td>\n",
       "      <td>0</td>\n",
       "      <td>1</td>\n",
       "      <td>0</td>\n",
       "      <td>0</td>\n",
       "      <td>0</td>\n",
       "      <td>0</td>\n",
       "      <td>...</td>\n",
       "      <td>1</td>\n",
       "      <td>0</td>\n",
       "      <td>0</td>\n",
       "      <td>1</td>\n",
       "      <td>0</td>\n",
       "      <td>0</td>\n",
       "      <td>0</td>\n",
       "      <td>0</td>\n",
       "      <td>0</td>\n",
       "      <td>0</td>\n",
       "    </tr>\n",
       "    <tr>\n",
       "      <th>2</th>\n",
       "      <td>0</td>\n",
       "      <td>1</td>\n",
       "      <td>0</td>\n",
       "      <td>0</td>\n",
       "      <td>0</td>\n",
       "      <td>1</td>\n",
       "      <td>0</td>\n",
       "      <td>0</td>\n",
       "      <td>0</td>\n",
       "      <td>0</td>\n",
       "      <td>...</td>\n",
       "      <td>0</td>\n",
       "      <td>0</td>\n",
       "      <td>0</td>\n",
       "      <td>1</td>\n",
       "      <td>0</td>\n",
       "      <td>0</td>\n",
       "      <td>0</td>\n",
       "      <td>0</td>\n",
       "      <td>0</td>\n",
       "      <td>0</td>\n",
       "    </tr>\n",
       "    <tr>\n",
       "      <th>3</th>\n",
       "      <td>0</td>\n",
       "      <td>0</td>\n",
       "      <td>0</td>\n",
       "      <td>0</td>\n",
       "      <td>1</td>\n",
       "      <td>0</td>\n",
       "      <td>0</td>\n",
       "      <td>0</td>\n",
       "      <td>0</td>\n",
       "      <td>0</td>\n",
       "      <td>...</td>\n",
       "      <td>1</td>\n",
       "      <td>0</td>\n",
       "      <td>0</td>\n",
       "      <td>0</td>\n",
       "      <td>0</td>\n",
       "      <td>0</td>\n",
       "      <td>0</td>\n",
       "      <td>0</td>\n",
       "      <td>0</td>\n",
       "      <td>0</td>\n",
       "    </tr>\n",
       "    <tr>\n",
       "      <th>4</th>\n",
       "      <td>0</td>\n",
       "      <td>0</td>\n",
       "      <td>0</td>\n",
       "      <td>0</td>\n",
       "      <td>1</td>\n",
       "      <td>0</td>\n",
       "      <td>0</td>\n",
       "      <td>0</td>\n",
       "      <td>0</td>\n",
       "      <td>0</td>\n",
       "      <td>...</td>\n",
       "      <td>0</td>\n",
       "      <td>0</td>\n",
       "      <td>0</td>\n",
       "      <td>0</td>\n",
       "      <td>0</td>\n",
       "      <td>0</td>\n",
       "      <td>0</td>\n",
       "      <td>0</td>\n",
       "      <td>0</td>\n",
       "      <td>0</td>\n",
       "    </tr>\n",
       "  </tbody>\n",
       "</table>\n",
       "<p>5 rows × 38 columns</p>\n",
       "</div>"
      ],
      "text/plain": [
       "   Assembly  Bash/Shell  C  C#  C++  CSS  Clojure  Cobol  CoffeeScript  \\\n",
       "0         1           1  1   0    1    0        0      0             0   \n",
       "1         0           1  0   0    0    1        0      0             0   \n",
       "2         0           1  0   0    0    1        0      0             0   \n",
       "3         0           0  0   0    1    0        0      0             0   \n",
       "4         0           0  0   0    1    0        0      0             0   \n",
       "\n",
       "   Delphi/Object Pascal       ...        R  Ruby  Rust  SQL  Scala  Swift  \\\n",
       "0                     0       ...        0     0     0    0      0      0   \n",
       "1                     0       ...        1     0     0    1      0      0   \n",
       "2                     0       ...        0     0     0    1      0      0   \n",
       "3                     0       ...        1     0     0    0      0      0   \n",
       "4                     0       ...        0     0     0    0      0      0   \n",
       "\n",
       "   TypeScript  VB.NET  VBA  Visual Basic 6  \n",
       "0           0       0    0               0  \n",
       "1           0       0    0               0  \n",
       "2           0       0    0               0  \n",
       "3           0       0    0               0  \n",
       "4           0       0    0               0  \n",
       "\n",
       "[5 rows x 38 columns]"
      ]
     },
     "execution_count": 35,
     "metadata": {},
     "output_type": "execute_result"
    }
   ],
   "source": [
    "languages = []\n",
    "for entry in df1.LanguageWorkedWith:\n",
    "    if entry is np.nan:\n",
    "        languages.append(DefaultEntry(language_cols).to_dict())\n",
    "    else:\n",
    "        new_entry = DefaultEntry(language_cols).to_dict()\n",
    "        new_entry.update(dict(Counter(entry.split(';'))))\n",
    "        languages.append(new_entry)\n",
    "        \n",
    "languages = pd.DataFrame(languages)\n",
    "\n",
    "languages.head()"
   ]
  },
  {
   "cell_type": "code",
   "execution_count": 36,
   "metadata": {},
   "outputs": [
    {
     "data": {
      "text/plain": [
       "(783, 79)"
      ]
     },
     "execution_count": 36,
     "metadata": {},
     "output_type": "execute_result"
    }
   ],
   "source": [
    "converted_salary = df1.ConvertedSalary.copy()\n",
    "\n",
    "df2 = pd.concat([\n",
    "    company_size,\n",
    "    years_coding,\n",
    "    years_coding_prof,\n",
    "    wake_time,\n",
    "    hours_computer,\n",
    "    hours_outside,\n",
    "    skip_meals,\n",
    "    exercise,\n",
    "    age,\n",
    "    dependents,\n",
    "    dev_types,\n",
    "    education_types,\n",
    "    languages,\n",
    "    converted_salary,\n",
    "], axis=1)\n",
    "\n",
    "df2.shape"
   ]
  },
  {
   "cell_type": "markdown",
   "metadata": {},
   "source": [
    "## Finally doing it!!!"
   ]
  },
  {
   "cell_type": "code",
   "execution_count": 37,
   "metadata": {},
   "outputs": [],
   "source": [
    "from sklearn.linear_model import LinearRegression\n",
    "from sklearn.model_selection import train_test_split\n",
    "from sklearn.metrics import r2_score, mean_squared_error"
   ]
  },
  {
   "cell_type": "code",
   "execution_count": 38,
   "metadata": {},
   "outputs": [
    {
     "data": {
      "text/plain": [
       "Index(['CompanySize', 'YearsCoding', 'YearsCodingProf', 'WakeTime',\n",
       "       'HoursComputer', 'HoursOutside', 'SkipMeals', 'Exercise', 'Age',\n",
       "       'Dependents_No', 'Dependents_Yes', 'Back-end developer',\n",
       "       'C-suite executive (CEO, CTO, etc.)', 'Data or business analyst',\n",
       "       'Data scientist or machine learning specialist',\n",
       "       'Database administrator', 'Designer',\n",
       "       'Desktop or enterprise applications developer', 'DevOps specialist',\n",
       "       'Educator or academic researcher',\n",
       "       'Embedded applications or devices developer', 'Engineering manager',\n",
       "       'Front-end developer', 'Full-stack developer',\n",
       "       'Game or graphics developer', 'Marketing or sales professional',\n",
       "       'Mobile developer', 'Product manager', 'QA or test developer',\n",
       "       'Student', 'System administrator',\n",
       "       'Completed an industry certification program (e.g. MCPD)',\n",
       "       'Contributed to open source software',\n",
       "       'Participated in a full-time developer training program or bootcamp',\n",
       "       'Participated in a hackathon',\n",
       "       'Participated in online coding competitions (e.g. HackerRank, CodeChef, TopCoder)',\n",
       "       'Received on-the-job training in software development',\n",
       "       'Taken a part-time in-person course in programming or software development',\n",
       "       'Taken an online course in programming or software development (e.g. a MOOC)',\n",
       "       'Taught yourself a new language, framework, or tool without taking a formal course',\n",
       "       'Assembly', 'Bash/Shell', 'C', 'C#', 'C++', 'CSS', 'Clojure', 'Cobol',\n",
       "       'CoffeeScript', 'Delphi/Object Pascal', 'Erlang', 'F#', 'Go', 'Groovy',\n",
       "       'HTML', 'Hack', 'Haskell', 'Java', 'JavaScript', 'Julia', 'Kotlin',\n",
       "       'Lua', 'Matlab', 'Objective-C', 'Ocaml', 'PHP', 'Perl', 'Python', 'R',\n",
       "       'Ruby', 'Rust', 'SQL', 'Scala', 'Swift', 'TypeScript', 'VB.NET', 'VBA',\n",
       "       'Visual Basic 6', 'ConvertedSalary'],\n",
       "      dtype='object')"
      ]
     },
     "execution_count": 38,
     "metadata": {},
     "output_type": "execute_result"
    }
   ],
   "source": [
    "df2.columns"
   ]
  },
  {
   "cell_type": "code",
   "execution_count": 39,
   "metadata": {},
   "outputs": [
    {
     "name": "stdout",
     "output_type": "stream",
     "text": [
      "Train R2: 0.1468780870392028\n",
      "Train MSE: -0.7526291177523694\n",
      "Test R2: 40896676977.37118\n",
      "Test MSE: 22097988933.15338\n"
     ]
    }
   ],
   "source": [
    "X = df2.drop(axis=1, labels='ConvertedSalary')\n",
    "y = df2.ConvertedSalary\n",
    "\n",
    "X_train, X_test, y_train, y_test = train_test_split(X, y, test_size=0.2, random_state=42)\n",
    "\n",
    "lm = LinearRegression(normalize=True)\n",
    "lm.fit(X_train, y_train)\n",
    "y_train_pred = lm.predict(X_train)\n",
    "y_test_pred = lm.predict(X_test)\n",
    "\n",
    "train_r2_score = r2_score(y_train, y_train_pred)\n",
    "train_mse = r2_score(y_test, y_test_pred)\n",
    "test_r2_score = mean_squared_error(y_train, y_train_pred)\n",
    "test_mse = mean_squared_error(y_test, y_test_pred)\n",
    "\n",
    "print(f\"Train R2: {train_r2_score}\")\n",
    "print(f\"Train MSE: {train_mse}\")\n",
    "print(f\"Test R2: {test_r2_score}\")\n",
    "print(f\"Test MSE: {test_mse}\")"
   ]
  },
  {
   "cell_type": "code",
   "execution_count": 40,
   "metadata": {},
   "outputs": [
    {
     "data": {
      "text/plain": [
       "-0.7025090998210537"
      ]
     },
     "execution_count": 40,
     "metadata": {},
     "output_type": "execute_result"
    }
   ],
   "source": [
    "from sklearn.metrics import explained_variance_score\n",
    "explained_variance_score(y_test, y_test_pred)"
   ]
  },
  {
   "cell_type": "code",
   "execution_count": 41,
   "metadata": {},
   "outputs": [
    {
     "name": "stderr",
     "output_type": "stream",
     "text": [
      "/Users/joshtice/anaconda3/lib/python3.7/site-packages/sklearn/ensemble/forest.py:246: FutureWarning: The default value of n_estimators will change from 10 in version 0.20 to 100 in 0.22.\n",
      "  \"10 in version 0.20 to 100 in 0.22.\", FutureWarning)\n"
     ]
    },
    {
     "data": {
      "text/plain": [
       "-1.3105044463823505"
      ]
     },
     "execution_count": 41,
     "metadata": {},
     "output_type": "execute_result"
    }
   ],
   "source": [
    "from sklearn.ensemble import RandomForestRegressor\n",
    "\n",
    "tree = RandomForestRegressor()\n",
    "tree.fit(X_train, y_train)\n",
    "tree.score(X_test, y_test)"
   ]
  },
  {
   "cell_type": "markdown",
   "metadata": {},
   "source": [
    "Drop outliers?"
   ]
  },
  {
   "cell_type": "code",
   "execution_count": 42,
   "metadata": {},
   "outputs": [],
   "source": [
    "df3 = df2[df2.ConvertedSalary < 250000]"
   ]
  },
  {
   "cell_type": "code",
   "execution_count": 43,
   "metadata": {},
   "outputs": [
    {
     "name": "stdout",
     "output_type": "stream",
     "text": [
      "Train R2: 0.37012660863020885\n",
      "Train MSE: 0.0783681667008751\n",
      "Test R2: 1357287886.001069\n",
      "Test MSE: 1781843282.4427464\n"
     ]
    }
   ],
   "source": [
    "X = df3.drop(axis=1, labels='ConvertedSalary')\n",
    "y = df3.ConvertedSalary\n",
    "\n",
    "X_train, X_test, y_train, y_test = train_test_split(X, y, test_size=0.2, random_state=42)\n",
    "\n",
    "lm = LinearRegression(normalize=True)\n",
    "lm.fit(X_train, y_train)\n",
    "y_train_pred = lm.predict(X_train)\n",
    "y_test_pred = lm.predict(X_test)\n",
    "\n",
    "train_r2_score = r2_score(y_train, y_train_pred)\n",
    "train_mse = r2_score(y_test, y_test_pred)\n",
    "test_r2_score = mean_squared_error(y_train, y_train_pred)\n",
    "test_mse = mean_squared_error(y_test, y_test_pred)\n",
    "\n",
    "print(f\"Train R2: {train_r2_score}\")\n",
    "print(f\"Train MSE: {train_mse}\")\n",
    "print(f\"Test R2: {test_r2_score}\")\n",
    "print(f\"Test MSE: {test_mse}\")"
   ]
  },
  {
   "cell_type": "code",
   "execution_count": 44,
   "metadata": {},
   "outputs": [],
   "source": [
    "y_tree_pred = tree.predict(X_test)"
   ]
  },
  {
   "cell_type": "code",
   "execution_count": 45,
   "metadata": {},
   "outputs": [
    {
     "name": "stdout",
     "output_type": "stream",
     "text": [
      "['CompanySize',\n",
      " 'YearsCoding',\n",
      " 'YearsCodingProf',\n",
      " 'WakeTime',\n",
      " 'HoursComputer',\n",
      " 'HoursOutside',\n",
      " 'SkipMeals',\n",
      " 'Exercise',\n",
      " 'Age',\n",
      " 'Dependents_No',\n",
      " 'Dependents_Yes',\n",
      " 'Back-end developer',\n",
      " 'C-suite executive (CEO, CTO, etc.)',\n",
      " 'Data or business analyst',\n",
      " 'Data scientist or machine learning specialist',\n",
      " 'Database administrator',\n",
      " 'Designer',\n",
      " 'Desktop or enterprise applications developer',\n",
      " 'DevOps specialist',\n",
      " 'Educator or academic researcher',\n",
      " 'Embedded applications or devices developer',\n",
      " 'Engineering manager',\n",
      " 'Front-end developer',\n",
      " 'Full-stack developer',\n",
      " 'Game or graphics developer',\n",
      " 'Marketing or sales professional',\n",
      " 'Mobile developer',\n",
      " 'Product manager',\n",
      " 'QA or test developer',\n",
      " 'Student',\n",
      " 'System administrator',\n",
      " 'Completed an industry certification program (e.g. MCPD)',\n",
      " 'Contributed to open source software',\n",
      " 'Participated in a full-time developer training program or bootcamp',\n",
      " 'Participated in a hackathon',\n",
      " 'Participated in online coding competitions (e.g. HackerRank, CodeChef, '\n",
      " 'TopCoder)',\n",
      " 'Received on-the-job training in software development',\n",
      " 'Taken a part-time in-person course in programming or software development',\n",
      " 'Taken an online course in programming or software development (e.g. a MOOC)',\n",
      " 'Taught yourself a new language, framework, or tool without taking a formal '\n",
      " 'course',\n",
      " 'Assembly',\n",
      " 'Bash/Shell',\n",
      " 'C',\n",
      " 'C#',\n",
      " 'C++',\n",
      " 'CSS',\n",
      " 'Clojure',\n",
      " 'Cobol',\n",
      " 'CoffeeScript',\n",
      " 'Delphi/Object Pascal',\n",
      " 'Erlang',\n",
      " 'F#',\n",
      " 'Go',\n",
      " 'Groovy',\n",
      " 'HTML',\n",
      " 'Hack',\n",
      " 'Haskell',\n",
      " 'Java',\n",
      " 'JavaScript',\n",
      " 'Julia',\n",
      " 'Kotlin',\n",
      " 'Lua',\n",
      " 'Matlab',\n",
      " 'Objective-C',\n",
      " 'Ocaml',\n",
      " 'PHP',\n",
      " 'Perl',\n",
      " 'Python',\n",
      " 'R',\n",
      " 'Ruby',\n",
      " 'Rust',\n",
      " 'SQL',\n",
      " 'Scala',\n",
      " 'Swift',\n",
      " 'TypeScript',\n",
      " 'VB.NET',\n",
      " 'VBA',\n",
      " 'Visual Basic 6',\n",
      " 'ConvertedSalary']\n"
     ]
    }
   ],
   "source": [
    "pprint(list(df3.columns))"
   ]
  },
  {
   "cell_type": "code",
   "execution_count": 60,
   "metadata": {},
   "outputs": [
    {
     "data": {
      "image/png": "[encoded data removed]",
      "text/plain": [
       "<Figure size 432x288 with 1 Axes>"
      ]
     },
     "metadata": {
      "needs_background": "light"
     },
     "output_type": "display_data"
    }
   ],
   "source": [
    "sns.regplot(df3.Age, df3.ConvertedSalary, order=2, x_jitter=0.2)\n",
    "plt.show()"
   ]
  },
  {
   "cell_type": "code",
   "execution_count": 63,
   "metadata": {},
   "outputs": [
    {
     "data": {
      "image/png": "[encoded data removed]",
      "text/plain": [
       "<Figure size 432x288 with 1 Axes>"
      ]
     },
     "metadata": {
      "needs_background": "light"
     },
     "output_type": "display_data"
    }
   ],
   "source": [
    "sns.regplot(df3.CompanySize, df3.ConvertedSalary, x_jitter=0.2)\n",
    "plt.show()"
   ]
  },
  {
   "cell_type": "code",
   "execution_count": 64,
   "metadata": {},
   "outputs": [
    {
     "data": {
      "image/png": "[encoded data removed]",
      "text/plain": [
       "<Figure size 432x288 with 1 Axes>"
      ]
     },
     "metadata": {
      "needs_background": "light"
     },
     "output_type": "display_data"
    }
   ],
   "source": [
    "sns.regplot(df3.YearsCodingProf, df3.ConvertedSalary, x_jitter=0.2)\n",
    "plt.show()"
   ]
  },
  {
   "cell_type": "code",
   "execution_count": 67,
   "metadata": {},
   "outputs": [
    {
     "data": {
      "image/png": "[encoded data removed]",
      "text/plain": [
       "<Figure size 432x288 with 1 Axes>"
      ]
     },
     "metadata": {
      "needs_background": "light"
     },
     "output_type": "display_data"
    }
   ],
   "source": [
    "sns.regplot(df2['C-suite executive (CEO, CTO, etc.)'], df2.ConvertedSalary, x_jitter=0.2)\n",
    "plt.show()"
   ]
  },
  {
   "cell_type": "code",
   "execution_count": 85,
   "metadata": {},
   "outputs": [
    {
     "data": {
      "image/png": "[encoded data removed]",
      "text/plain": [
       "<Figure size 432x288 with 1 Axes>"
      ]
     },
     "metadata": {
      "needs_background": "light"
     },
     "output_type": "display_data"
    }
   ],
   "source": [
    "job_cols = [\n",
    "    'Back-end developer',\n",
    "    'C-suite executive (CEO, CTO, etc.)',\n",
    "    'Data or business analyst',\n",
    "    'Data scientist or machine learning specialist',\n",
    "    'Database administrator',\n",
    "    'Designer',\n",
    "    'Desktop or enterprise applications developer',\n",
    "    'DevOps specialist',\n",
    "    'Educator or academic researcher',\n",
    "    'Embedded applications or devices developer',\n",
    "    'Engineering manager',\n",
    "    'Front-end developer',\n",
    "    'Full-stack developer',\n",
    "    'Game or graphics developer',\n",
    "    'Marketing or sales professional',\n",
    "    'Mobile developer',\n",
    "    'Product manager',\n",
    "    'QA or test developer',\n",
    "    'Student',\n",
    "    'System administrator',\n",
    "]\n",
    "rich_jobs = df2.loc[df2.ConvertedSalary > 500000, job_cols].sum()\n",
    "sns.barplot(rich_jobs.sort_values(ascending=False), rich_jobs.sort_values(ascending=False).index, color='royalblue')\n",
    "plt.show()"
   ]
  },
  {
   "cell_type": "code",
   "execution_count": 90,
   "metadata": {},
   "outputs": [
    {
     "data": {
      "text/plain": [
       "177    0\n",
       "418    0\n",
       "421    1\n",
       "573    0\n",
       "587    0\n",
       "Name: R, dtype: int64"
      ]
     },
     "execution_count": 90,
     "metadata": {},
     "output_type": "execute_result"
    }
   ],
   "source": [
    "df2.loc[df2.ConvertedSalary > 1500000, 'R']"
   ]
  },
  {
   "cell_type": "code",
   "execution_count": null,
   "metadata": {},
   "outputs": [],
   "source": []
  }
 ],
 "metadata": {
  "kernelspec": {
   "display_name": "Python 3",
   "language": "python",
   "name": "python3"
  },
  "language_info": {
   "codemirror_mode": {
    "name": "ipython",
    "version": 3
   },
   "file_extension": ".py",
   "mimetype": "text/x-python",
   "name": "python",
   "nbconvert_exporter": "python",
   "pygments_lexer": "ipython3",
   "version": "3.7.1"
  }
 },
 "nbformat": 4,
 "nbformat_minor": 2
}
