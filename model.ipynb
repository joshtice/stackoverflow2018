{
 "cells": [
  {
   "cell_type": "code",
   "execution_count": 1,
   "metadata": {},
   "outputs": [],
   "source": [
    "from   collections import Counter\n",
    "import matplotlib.pyplot as plt\n",
    "import numpy as np\n",
    "import pandas as pd\n",
    "from   pathlib import Path\n",
    "from   pprint import pprint\n",
    "import seaborn as sns\n",
    "\n",
    "%matplotlib inline"
   ]
  },
  {
   "cell_type": "code",
   "execution_count": 2,
   "metadata": {},
   "outputs": [],
   "source": [
    "csv_path = Path(\"../data/survey_results_public.csv\")\n",
    "schema_path = Path(\"../data/survey_results_schema.csv\")"
   ]
  },
  {
   "cell_type": "code",
   "execution_count": 13,
   "metadata": {},
   "outputs": [],
   "source": [
    "df = pd.read_csv(csv_path, low_memory=False)\n",
    "schema = pd.read_csv(schema_path)"
   ]
  },
  {
   "cell_type": "code",
   "execution_count": 14,
   "metadata": {},
   "outputs": [],
   "source": [
    "is_phd = df.FormalEducation.fillna('Not reported').str.contains('Other doctoral degree')\n",
    "is_compsci = df.UndergradMajor.fillna('Not reported').str.contains('Computer science')\n",
    "\n",
    "cols = [\n",
    "    'Country',\n",
    "    'FormalEducation',\n",
    "    'UndergradMajor',\n",
    "    'CompanySize',\n",
    "    'DevType',\n",
    "    'YearsCoding',\n",
    "    'YearsCodingProf',\n",
    "    'ConvertedSalary',\n",
    "    'EducationTypes',\n",
    "    'SelfTaughtTypes',\n",
    "    'LanguageWorkedWith',\n",
    "    'DatabaseWorkedWith',\n",
    "    'PlatformWorkedWith',\n",
    "    'FrameworkWorkedWith',\n",
    "    'HoursComputer',\n",
    "    'HoursOutside',\n",
    "    'Exercise',\n",
    "    'Gender',\n",
    "    'SexualOrientation',\n",
    "    'EducationParents',\n",
    "    'RaceEthnicity',\n",
    "    'Age',\n",
    "    'Dependents',\n",
    "]\n",
    "\n",
    "df = df[cols]"
   ]
  },
  {
   "cell_type": "code",
   "execution_count": 15,
   "metadata": {},
   "outputs": [
    {
     "data": {
      "text/plain": [
       "(98855, 12)"
      ]
     },
     "execution_count": 15,
     "metadata": {},
     "output_type": "execute_result"
    }
   ],
   "source": [
    "df.shape"
   ]
  },
  {
   "cell_type": "code",
   "execution_count": 16,
   "metadata": {},
   "outputs": [
    {
     "data": {
      "text/plain": [
       "4830"
      ]
     },
     "execution_count": 16,
     "metadata": {},
     "output_type": "execute_result"
    }
   ],
   "source": [
    "df.isnull().all(axis=1).sum()"
   ]
  },
  {
   "cell_type": "code",
   "execution_count": 17,
   "metadata": {},
   "outputs": [
    {
     "data": {
      "text/plain": [
       "CompanySize           27324\n",
       "DevType                6757\n",
       "YearsCoding            5020\n",
       "YearsCodingProf       20952\n",
       "ConvertedSalary       51153\n",
       "EducationTypes        30895\n",
       "LanguageWorkedWith    20521\n",
       "HoursComputer         26722\n",
       "HoursOutside          26831\n",
       "Exercise              26747\n",
       "Age                   34281\n",
       "Dependents            36259\n",
       "dtype: int64"
      ]
     },
     "execution_count": 17,
     "metadata": {},
     "output_type": "execute_result"
    }
   ],
   "source": [
    "df.isnull().sum()"
   ]
  },
  {
   "cell_type": "code",
   "execution_count": 18,
   "metadata": {},
   "outputs": [],
   "source": [
    "df = df.dropna(axis=0, how='all')\n",
    "df = df.dropna(axis=0, how='any', subset=['ConvertedSalary'])\n",
    "df = df.reset_index()"
   ]
  },
  {
   "cell_type": "code",
   "execution_count": 19,
   "metadata": {},
   "outputs": [
    {
     "data": {
      "text/plain": [
       "(47702, 13)"
      ]
     },
     "execution_count": 19,
     "metadata": {},
     "output_type": "execute_result"
    }
   ],
   "source": [
    "df.shape"
   ]
  },
  {
   "cell_type": "code",
   "execution_count": 20,
   "metadata": {},
   "outputs": [
    {
     "data": {
      "text/plain": [
       "index                    0\n",
       "CompanySize           6742\n",
       "DevType                337\n",
       "YearsCoding             19\n",
       "YearsCodingProf        737\n",
       "ConvertedSalary          0\n",
       "EducationTypes        1853\n",
       "LanguageWorkedWith    1220\n",
       "HoursComputer         1718\n",
       "HoursOutside          1772\n",
       "Exercise              1697\n",
       "Age                   2865\n",
       "Dependents            3673\n",
       "dtype: int64"
      ]
     },
     "execution_count": 20,
     "metadata": {},
     "output_type": "execute_result"
    }
   ],
   "source": [
    "df.isnull().sum()"
   ]
  },
  {
   "cell_type": "code",
   "execution_count": 21,
   "metadata": {},
   "outputs": [
    {
     "data": {
      "text/html": [
       "<div>\n",
       "<style scoped>\n",
       "    .dataframe tbody tr th:only-of-type {\n",
       "        vertical-align: middle;\n",
       "    }\n",
       "\n",
       "    .dataframe tbody tr th {\n",
       "        vertical-align: top;\n",
       "    }\n",
       "\n",
       "    .dataframe thead th {\n",
       "        text-align: right;\n",
       "    }\n",
       "</style>\n",
       "<table border=\"1\" class=\"dataframe\">\n",
       "  <thead>\n",
       "    <tr style=\"text-align: right;\">\n",
       "      <th></th>\n",
       "      <th>index</th>\n",
       "      <th>CompanySize</th>\n",
       "      <th>DevType</th>\n",
       "      <th>YearsCoding</th>\n",
       "      <th>YearsCodingProf</th>\n",
       "      <th>ConvertedSalary</th>\n",
       "      <th>EducationTypes</th>\n",
       "      <th>LanguageWorkedWith</th>\n",
       "      <th>HoursComputer</th>\n",
       "      <th>HoursOutside</th>\n",
       "      <th>Exercise</th>\n",
       "      <th>Age</th>\n",
       "      <th>Dependents</th>\n",
       "    </tr>\n",
       "  </thead>\n",
       "  <tbody>\n",
       "    <tr>\n",
       "      <th>0</th>\n",
       "      <td>1</td>\n",
       "      <td>10,000 or more employees</td>\n",
       "      <td>Database administrator;DevOps specialist;Full-...</td>\n",
       "      <td>30 or more years</td>\n",
       "      <td>18-20 years</td>\n",
       "      <td>70841.0</td>\n",
       "      <td>Taught yourself a new language, framework, or ...</td>\n",
       "      <td>JavaScript;Python;Bash/Shell</td>\n",
       "      <td>5 - 8 hours</td>\n",
       "      <td>30 - 59 minutes</td>\n",
       "      <td>Daily or almost every day</td>\n",
       "      <td>35 - 44 years old</td>\n",
       "      <td>Yes</td>\n",
       "    </tr>\n",
       "    <tr>\n",
       "      <th>1</th>\n",
       "      <td>4</td>\n",
       "      <td>10,000 or more employees</td>\n",
       "      <td>Data or business analyst;Desktop or enterprise...</td>\n",
       "      <td>6-8 years</td>\n",
       "      <td>0-2 years</td>\n",
       "      <td>21426.0</td>\n",
       "      <td>Taken a part-time in-person course in programm...</td>\n",
       "      <td>C;C++;Java;Matlab;R;SQL;Bash/Shell</td>\n",
       "      <td>Over 12 hours</td>\n",
       "      <td>1 - 2 hours</td>\n",
       "      <td>3 - 4 times per week</td>\n",
       "      <td>18 - 24 years old</td>\n",
       "      <td>Yes</td>\n",
       "    </tr>\n",
       "    <tr>\n",
       "      <th>2</th>\n",
       "      <td>5</td>\n",
       "      <td>10 to 19 employees</td>\n",
       "      <td>Back-end developer;Database administrator;Fron...</td>\n",
       "      <td>6-8 years</td>\n",
       "      <td>3-5 years</td>\n",
       "      <td>41671.0</td>\n",
       "      <td>Received on-the-job training in software devel...</td>\n",
       "      <td>Java;JavaScript;Python;TypeScript;HTML;CSS</td>\n",
       "      <td>9 - 12 hours</td>\n",
       "      <td>30 - 59 minutes</td>\n",
       "      <td>1 - 2 times per week</td>\n",
       "      <td>18 - 24 years old</td>\n",
       "      <td>No</td>\n",
       "    </tr>\n",
       "    <tr>\n",
       "      <th>3</th>\n",
       "      <td>6</td>\n",
       "      <td>10,000 or more employees</td>\n",
       "      <td>Back-end developer;Front-end developer;Full-st...</td>\n",
       "      <td>9-11 years</td>\n",
       "      <td>0-2 years</td>\n",
       "      <td>120000.0</td>\n",
       "      <td>Received on-the-job training in software devel...</td>\n",
       "      <td>JavaScript;HTML;CSS</td>\n",
       "      <td>Over 12 hours</td>\n",
       "      <td>Less than 30 minutes</td>\n",
       "      <td>I don't typically exercise</td>\n",
       "      <td>18 - 24 years old</td>\n",
       "      <td>No</td>\n",
       "    </tr>\n",
       "    <tr>\n",
       "      <th>4</th>\n",
       "      <td>8</td>\n",
       "      <td>100 to 499 employees</td>\n",
       "      <td>Back-end developer;C-suite executive (CEO, CTO...</td>\n",
       "      <td>30 or more years</td>\n",
       "      <td>21-23 years</td>\n",
       "      <td>250000.0</td>\n",
       "      <td>Taken an online course in programming or softw...</td>\n",
       "      <td>Assembly;CoffeeScript;Erlang;Go;JavaScript;Lua...</td>\n",
       "      <td>9 - 12 hours</td>\n",
       "      <td>Less than 30 minutes</td>\n",
       "      <td>I don't typically exercise</td>\n",
       "      <td>35 - 44 years old</td>\n",
       "      <td>Yes</td>\n",
       "    </tr>\n",
       "  </tbody>\n",
       "</table>\n",
       "</div>"
      ],
      "text/plain": [
       "   index               CompanySize  \\\n",
       "0      1  10,000 or more employees   \n",
       "1      4  10,000 or more employees   \n",
       "2      5        10 to 19 employees   \n",
       "3      6  10,000 or more employees   \n",
       "4      8      100 to 499 employees   \n",
       "\n",
       "                                             DevType       YearsCoding  \\\n",
       "0  Database administrator;DevOps specialist;Full-...  30 or more years   \n",
       "1  Data or business analyst;Desktop or enterprise...         6-8 years   \n",
       "2  Back-end developer;Database administrator;Fron...         6-8 years   \n",
       "3  Back-end developer;Front-end developer;Full-st...        9-11 years   \n",
       "4  Back-end developer;C-suite executive (CEO, CTO...  30 or more years   \n",
       "\n",
       "  YearsCodingProf  ConvertedSalary  \\\n",
       "0     18-20 years          70841.0   \n",
       "1       0-2 years          21426.0   \n",
       "2       3-5 years          41671.0   \n",
       "3       0-2 years         120000.0   \n",
       "4     21-23 years         250000.0   \n",
       "\n",
       "                                      EducationTypes  \\\n",
       "0  Taught yourself a new language, framework, or ...   \n",
       "1  Taken a part-time in-person course in programm...   \n",
       "2  Received on-the-job training in software devel...   \n",
       "3  Received on-the-job training in software devel...   \n",
       "4  Taken an online course in programming or softw...   \n",
       "\n",
       "                                  LanguageWorkedWith  HoursComputer  \\\n",
       "0                       JavaScript;Python;Bash/Shell    5 - 8 hours   \n",
       "1                 C;C++;Java;Matlab;R;SQL;Bash/Shell  Over 12 hours   \n",
       "2         Java;JavaScript;Python;TypeScript;HTML;CSS   9 - 12 hours   \n",
       "3                                JavaScript;HTML;CSS  Over 12 hours   \n",
       "4  Assembly;CoffeeScript;Erlang;Go;JavaScript;Lua...   9 - 12 hours   \n",
       "\n",
       "           HoursOutside                    Exercise                Age  \\\n",
       "0       30 - 59 minutes   Daily or almost every day  35 - 44 years old   \n",
       "1           1 - 2 hours        3 - 4 times per week  18 - 24 years old   \n",
       "2       30 - 59 minutes        1 - 2 times per week  18 - 24 years old   \n",
       "3  Less than 30 minutes  I don't typically exercise  18 - 24 years old   \n",
       "4  Less than 30 minutes  I don't typically exercise  35 - 44 years old   \n",
       "\n",
       "  Dependents  \n",
       "0        Yes  \n",
       "1        Yes  \n",
       "2         No  \n",
       "3         No  \n",
       "4        Yes  "
      ]
     },
     "execution_count": 21,
     "metadata": {},
     "output_type": "execute_result"
    }
   ],
   "source": [
    "df.head()"
   ]
  },
  {
   "cell_type": "code",
   "execution_count": 11,
   "metadata": {},
   "outputs": [
    {
     "name": "stdout",
     "output_type": "stream",
     "text": [
      "['1,000 to 4,999 employees',\n",
      " '100 to 499 employees',\n",
      " '10 to 19 employees',\n",
      " '20 to 99 employees',\n",
      " '5,000 to 9,999 employees',\n",
      " '500 to 999 employees',\n",
      " '10,000 or more employees',\n",
      " 'Fewer than 10 employees',\n",
      " nan]\n"
     ]
    }
   ],
   "source": [
    "pprint(list(df.CompanySize.unique()))"
   ]
  },
  {
   "cell_type": "code",
   "execution_count": 23,
   "metadata": {},
   "outputs": [
    {
     "data": {
      "image/png": "[encoded data removed]",
      "text/plain": [
       "<Figure size 432x288 with 1 Axes>"
      ]
     },
     "metadata": {
      "needs_background": "light"
     },
     "output_type": "display_data"
    }
   ],
   "source": [
    "company_size_mapping = {\n",
    "    'Fewer than 10 employees': 1,\n",
    "    '10 to 19 employees': 10,\n",
    "    '20 to 99 employees': 20,\n",
    "    '100 to 499 employees': 100,\n",
    "    '500 to 999 employees': 500,\n",
    "    '1,000 to 4,999 employees': 1000,\n",
    "    '5,000 to 9,999 employees': 5000,\n",
    "    '10,000 or more employees': 10000,\n",
    "    np.nan: np.nan,\n",
    "}\n",
    "\n",
    "company_size = df.CompanySize.map(company_size_mapping)\n",
    "company_size = company_size.fillna(company_size.median())\n",
    "\n",
    "sns.barplot(x=company_size.value_counts().index, y=company_size.value_counts(), color='royalblue')\n",
    "plt.show()"
   ]
  },
  {
   "cell_type": "code",
   "execution_count": 25,
   "metadata": {},
   "outputs": [
    {
     "name": "stdout",
     "output_type": "stream",
     "text": [
      "['30 or more years',\n",
      " '6-8 years',\n",
      " '9-11 years',\n",
      " '0-2 years',\n",
      " '15-17 years',\n",
      " '18-20 years',\n",
      " '3-5 years',\n",
      " '12-14 years',\n",
      " '24-26 years',\n",
      " '21-23 years',\n",
      " '27-29 years',\n",
      " nan]\n"
     ]
    }
   ],
   "source": [
    "pprint(list(df.YearsCoding.unique()))"
   ]
  },
  {
   "cell_type": "code",
   "execution_count": 27,
   "metadata": {},
   "outputs": [
    {
     "data": {
      "image/png": "[encoded data removed]",
      "text/plain": [
       "<Figure size 432x288 with 1 Axes>"
      ]
     },
     "metadata": {
      "needs_background": "light"
     },
     "output_type": "display_data"
    }
   ],
   "source": [
    "years_coding_mapping = {\n",
    "    '0-2 years': 0,\n",
    "    '3-5 years': 3,\n",
    "    '6-8 years': 6,\n",
    "    '9-11 years': 9,\n",
    "    '12-14 years': 12,\n",
    "    '15-17 years': 15,\n",
    "    '18-20 years': 18,\n",
    "    '21-23 years':21,\n",
    "    '24-26 years': 24,\n",
    "    '27-29 years': 27,\n",
    "    '30 or more years': 30,\n",
    "    np.nan: np.nan,\n",
    "}\n",
    "\n",
    "years_coding = df.YearsCoding.map(years_coding_mapping)\n",
    "years_coding = years_coding.fillna(years_coding.median())\n",
    "\n",
    "sns.barplot(x=years_coding.value_counts().index, y=years_coding.value_counts(), color='royalblue')\n",
    "plt.show()"
   ]
  },
  {
   "cell_type": "code",
   "execution_count": 28,
   "metadata": {},
   "outputs": [
    {
     "data": {
      "image/png": "[encoded data removed]",
      "text/plain": [
       "<Figure size 432x288 with 1 Axes>"
      ]
     },
     "metadata": {
      "needs_background": "light"
     },
     "output_type": "display_data"
    }
   ],
   "source": [
    "years_coding_prof = df.YearsCodingProf.map(years_coding_mapping)\n",
    "years_coding_prof = years_coding_prof.fillna(years_coding_prof.median())\n",
    "\n",
    "sns.barplot(x=years_coding_prof.value_counts().index, y=years_coding_prof.value_counts(), color='royalblue')\n",
    "plt.show()"
   ]
  },
  {
   "cell_type": "code",
   "execution_count": 30,
   "metadata": {},
   "outputs": [
    {
     "name": "stdout",
     "output_type": "stream",
     "text": [
      "['5 - 8 hours',\n",
      " 'Over 12 hours',\n",
      " '9 - 12 hours',\n",
      " '1 - 4 hours',\n",
      " nan,\n",
      " 'Less than 1 hour']\n"
     ]
    }
   ],
   "source": [
    "pprint(list(df.HoursComputer.unique()))"
   ]
  },
  {
   "cell_type": "code",
   "execution_count": 32,
   "metadata": {},
   "outputs": [
    {
     "data": {
      "image/png": "[encoded data removed]",
      "text/plain": [
       "<Figure size 432x288 with 1 Axes>"
      ]
     },
     "metadata": {
      "needs_background": "light"
     },
     "output_type": "display_data"
    }
   ],
   "source": [
    "hours_computer_mapping = {\n",
    "    'Less than 1 hour': 0.5,\n",
    "    '1 - 4 hours': 1,\n",
    "    '5 - 8 hours': 5,\n",
    "    '9 - 12 hours': 9,\n",
    "    'Over 12 hours': 12,\n",
    "    np.nan: np.nan,\n",
    "}\n",
    "\n",
    "hours_computer = df.HoursComputer.map(hours_computer_mapping)\n",
    "hours_computer = hours_computer.fillna(hours_computer.median())\n",
    "\n",
    "sns.barplot(x=hours_computer.value_counts().index, y=hours_computer.value_counts(), color='royalblue')\n",
    "plt.show()"
   ]
  },
  {
   "cell_type": "code",
   "execution_count": 33,
   "metadata": {},
   "outputs": [
    {
     "name": "stdout",
     "output_type": "stream",
     "text": [
      "['30 - 59 minutes',\n",
      " '1 - 2 hours',\n",
      " 'Less than 30 minutes',\n",
      " '3 - 4 hours',\n",
      " 'Over 4 hours',\n",
      " nan]\n"
     ]
    }
   ],
   "source": [
    "pprint(list(df.HoursOutside.unique()))"
   ]
  },
  {
   "cell_type": "code",
   "execution_count": 34,
   "metadata": {},
   "outputs": [
    {
     "data": {
      "image/png": "[encoded data removed]",
      "text/plain": [
       "<Figure size 432x288 with 1 Axes>"
      ]
     },
     "metadata": {
      "needs_background": "light"
     },
     "output_type": "display_data"
    }
   ],
   "source": [
    "hours_outside_mapping = {\n",
    "    'Less than 30 minutes': 15,\n",
    "    '30 - 59 minutes': 30,\n",
    "    '1 - 2 hours': 60,\n",
    "    '3 - 4 hours': 180,\n",
    "    'Over 4 hours': 240,\n",
    "    np.nan: np.nan,\n",
    "}\n",
    "\n",
    "hours_outside = df.HoursOutside.map(hours_outside_mapping)\n",
    "hours_outside = hours_outside.fillna(hours_outside.median())\n",
    "\n",
    "sns.barplot(x=hours_outside.value_counts().index, y=hours_outside.value_counts(), color='royalblue')\n",
    "plt.show()"
   ]
  },
  {
   "cell_type": "code",
   "execution_count": 36,
   "metadata": {},
   "outputs": [
    {
     "name": "stdout",
     "output_type": "stream",
     "text": [
      "['Daily or almost every day',\n",
      " '3 - 4 times per week',\n",
      " '1 - 2 times per week',\n",
      " \"I don't typically exercise\",\n",
      " nan]\n"
     ]
    }
   ],
   "source": [
    "pprint(list(df.Exercise.unique()))"
   ]
  },
  {
   "cell_type": "code",
   "execution_count": 37,
   "metadata": {},
   "outputs": [
    {
     "data": {
      "image/png": "[encoded data removed]",
      "text/plain": [
       "<Figure size 432x288 with 1 Axes>"
      ]
     },
     "metadata": {
      "needs_background": "light"
     },
     "output_type": "display_data"
    }
   ],
   "source": [
    "exercise_mapping = {\n",
    "    \"I don't typically exercise\": 0,\n",
    "    '1 - 2 times per week': 1,\n",
    "    '3 - 4 times per week': 3,\n",
    "    'Daily or almost every day': 6,\n",
    "     np.nan: np.nan,\n",
    "}\n",
    "\n",
    "exercise = df.Exercise.map(exercise_mapping)\n",
    "exercise = exercise.fillna(exercise.median())\n",
    "\n",
    "sns.barplot(x=exercise.value_counts().index, y=exercise.value_counts(), color='royalblue')\n",
    "plt.show()"
   ]
  },
  {
   "cell_type": "code",
   "execution_count": 39,
   "metadata": {},
   "outputs": [
    {
     "name": "stdout",
     "output_type": "stream",
     "text": [
      "['35 - 44 years old',\n",
      " '18 - 24 years old',\n",
      " '25 - 34 years old',\n",
      " '45 - 54 years old',\n",
      " nan,\n",
      " '55 - 64 years old',\n",
      " 'Under 18 years old',\n",
      " '65 years or older']\n"
     ]
    }
   ],
   "source": [
    "pprint(list(df.Age.unique()))"
   ]
  },
  {
   "cell_type": "code",
   "execution_count": 40,
   "metadata": {},
   "outputs": [
    {
     "data": {
      "image/png": "[encoded data removed]",
      "text/plain": [
       "<Figure size 432x288 with 1 Axes>"
      ]
     },
     "metadata": {
      "needs_background": "light"
     },
     "output_type": "display_data"
    }
   ],
   "source": [
    "age_mapping = {\n",
    "    'Under 18 years old': 15,\n",
    "    '18 - 24 years old': 18,\n",
    "    '25 - 34 years old': 25,\n",
    "    '35 - 44 years old': 35,\n",
    "    '45 - 54 years old': 45,\n",
    "    '55 - 64 years old': 55,\n",
    "    '65 years or older': 65,\n",
    "    np.nan: np.nan, \n",
    "}\n",
    "\n",
    "age = df.Age.map(age_mapping)\n",
    "age = age.fillna(age.median())\n",
    "\n",
    "sns.barplot(x=age.value_counts().index, y=age.value_counts(), color='royalblue')\n",
    "plt.show()"
   ]
  },
  {
   "cell_type": "code",
   "execution_count": 42,
   "metadata": {},
   "outputs": [
    {
     "name": "stdout",
     "output_type": "stream",
     "text": [
      "['Yes', 'No', nan]\n"
     ]
    }
   ],
   "source": [
    "pprint(list(df.Dependents.unique()))"
   ]
  },
  {
   "cell_type": "code",
   "execution_count": 43,
   "metadata": {},
   "outputs": [],
   "source": [
    "dependents = pd.get_dummies(df.Dependents, prefix='Dependents')"
   ]
  },
  {
   "cell_type": "code",
   "execution_count": 45,
   "metadata": {},
   "outputs": [
    {
     "data": {
      "text/plain": [
       "Counter({'Database administrator': 7135,\n",
       "         'DevOps specialist': 6087,\n",
       "         'Full-stack developer': 25339,\n",
       "         'System administrator': 5745,\n",
       "         'Data or business analyst': 4088,\n",
       "         'Desktop or enterprise applications developer': 8807,\n",
       "         'Game or graphics developer': 1950,\n",
       "         'QA or test developer': 3603,\n",
       "         'Student': 4736,\n",
       "         'Back-end developer': 28987,\n",
       "         'Front-end developer': 18489,\n",
       "         'C-suite executive (CEO, CTO, etc.)': 1620,\n",
       "         'Engineering manager': 2973,\n",
       "         'Mobile developer': 9205,\n",
       "         'Designer': 5490,\n",
       "         'Marketing or sales professional': 476,\n",
       "         'Embedded applications or devices developer': 2659,\n",
       "         'Educator or academic researcher': 1724,\n",
       "         'Data scientist or machine learning specialist': 3763,\n",
       "         'Product manager': 2278})"
      ]
     },
     "execution_count": 45,
     "metadata": {},
     "output_type": "execute_result"
    }
   ],
   "source": [
    "dev_list = []\n",
    "for entry in df.DevType:\n",
    "    if entry is np.nan:\n",
    "        pass\n",
    "    else:\n",
    "        dev_list.extend(entry.split(';'))\n",
    "\n",
    "dev_counter = Counter(dev_list)\n",
    "dev_type_cols = sorted(dev_counter.keys())\n",
    "dev_counter"
   ]
  },
  {
   "cell_type": "code",
   "execution_count": 47,
   "metadata": {},
   "outputs": [
    {
     "data": {
      "text/html": [
       "<div>\n",
       "<style scoped>\n",
       "    .dataframe tbody tr th:only-of-type {\n",
       "        vertical-align: middle;\n",
       "    }\n",
       "\n",
       "    .dataframe tbody tr th {\n",
       "        vertical-align: top;\n",
       "    }\n",
       "\n",
       "    .dataframe thead th {\n",
       "        text-align: right;\n",
       "    }\n",
       "</style>\n",
       "<table border=\"1\" class=\"dataframe\">\n",
       "  <thead>\n",
       "    <tr style=\"text-align: right;\">\n",
       "      <th></th>\n",
       "      <th>Back-end developer</th>\n",
       "      <th>C-suite executive (CEO, CTO, etc.)</th>\n",
       "      <th>Data or business analyst</th>\n",
       "      <th>Data scientist or machine learning specialist</th>\n",
       "      <th>Database administrator</th>\n",
       "      <th>Designer</th>\n",
       "      <th>Desktop or enterprise applications developer</th>\n",
       "      <th>DevOps specialist</th>\n",
       "      <th>Educator or academic researcher</th>\n",
       "      <th>Embedded applications or devices developer</th>\n",
       "      <th>Engineering manager</th>\n",
       "      <th>Front-end developer</th>\n",
       "      <th>Full-stack developer</th>\n",
       "      <th>Game or graphics developer</th>\n",
       "      <th>Marketing or sales professional</th>\n",
       "      <th>Mobile developer</th>\n",
       "      <th>Product manager</th>\n",
       "      <th>QA or test developer</th>\n",
       "      <th>Student</th>\n",
       "      <th>System administrator</th>\n",
       "    </tr>\n",
       "  </thead>\n",
       "  <tbody>\n",
       "    <tr>\n",
       "      <th>0</th>\n",
       "      <td>0</td>\n",
       "      <td>0</td>\n",
       "      <td>0</td>\n",
       "      <td>0</td>\n",
       "      <td>1</td>\n",
       "      <td>0</td>\n",
       "      <td>0</td>\n",
       "      <td>1</td>\n",
       "      <td>0</td>\n",
       "      <td>0</td>\n",
       "      <td>0</td>\n",
       "      <td>0</td>\n",
       "      <td>1</td>\n",
       "      <td>0</td>\n",
       "      <td>0</td>\n",
       "      <td>0</td>\n",
       "      <td>0</td>\n",
       "      <td>0</td>\n",
       "      <td>0</td>\n",
       "      <td>1</td>\n",
       "    </tr>\n",
       "    <tr>\n",
       "      <th>1</th>\n",
       "      <td>0</td>\n",
       "      <td>0</td>\n",
       "      <td>1</td>\n",
       "      <td>0</td>\n",
       "      <td>0</td>\n",
       "      <td>0</td>\n",
       "      <td>1</td>\n",
       "      <td>0</td>\n",
       "      <td>0</td>\n",
       "      <td>0</td>\n",
       "      <td>0</td>\n",
       "      <td>0</td>\n",
       "      <td>0</td>\n",
       "      <td>1</td>\n",
       "      <td>0</td>\n",
       "      <td>0</td>\n",
       "      <td>0</td>\n",
       "      <td>1</td>\n",
       "      <td>1</td>\n",
       "      <td>0</td>\n",
       "    </tr>\n",
       "    <tr>\n",
       "      <th>2</th>\n",
       "      <td>1</td>\n",
       "      <td>0</td>\n",
       "      <td>0</td>\n",
       "      <td>0</td>\n",
       "      <td>1</td>\n",
       "      <td>0</td>\n",
       "      <td>0</td>\n",
       "      <td>0</td>\n",
       "      <td>0</td>\n",
       "      <td>0</td>\n",
       "      <td>0</td>\n",
       "      <td>1</td>\n",
       "      <td>1</td>\n",
       "      <td>0</td>\n",
       "      <td>0</td>\n",
       "      <td>0</td>\n",
       "      <td>0</td>\n",
       "      <td>0</td>\n",
       "      <td>0</td>\n",
       "      <td>0</td>\n",
       "    </tr>\n",
       "    <tr>\n",
       "      <th>3</th>\n",
       "      <td>1</td>\n",
       "      <td>0</td>\n",
       "      <td>0</td>\n",
       "      <td>0</td>\n",
       "      <td>0</td>\n",
       "      <td>0</td>\n",
       "      <td>0</td>\n",
       "      <td>0</td>\n",
       "      <td>0</td>\n",
       "      <td>0</td>\n",
       "      <td>0</td>\n",
       "      <td>1</td>\n",
       "      <td>1</td>\n",
       "      <td>0</td>\n",
       "      <td>0</td>\n",
       "      <td>0</td>\n",
       "      <td>0</td>\n",
       "      <td>0</td>\n",
       "      <td>0</td>\n",
       "      <td>0</td>\n",
       "    </tr>\n",
       "    <tr>\n",
       "      <th>4</th>\n",
       "      <td>1</td>\n",
       "      <td>1</td>\n",
       "      <td>1</td>\n",
       "      <td>0</td>\n",
       "      <td>1</td>\n",
       "      <td>0</td>\n",
       "      <td>0</td>\n",
       "      <td>1</td>\n",
       "      <td>0</td>\n",
       "      <td>0</td>\n",
       "      <td>1</td>\n",
       "      <td>0</td>\n",
       "      <td>1</td>\n",
       "      <td>0</td>\n",
       "      <td>0</td>\n",
       "      <td>0</td>\n",
       "      <td>0</td>\n",
       "      <td>0</td>\n",
       "      <td>0</td>\n",
       "      <td>1</td>\n",
       "    </tr>\n",
       "  </tbody>\n",
       "</table>\n",
       "</div>"
      ],
      "text/plain": [
       "   Back-end developer  C-suite executive (CEO, CTO, etc.)  \\\n",
       "0                   0                                   0   \n",
       "1                   0                                   0   \n",
       "2                   1                                   0   \n",
       "3                   1                                   0   \n",
       "4                   1                                   1   \n",
       "\n",
       "   Data or business analyst  Data scientist or machine learning specialist  \\\n",
       "0                         0                                              0   \n",
       "1                         1                                              0   \n",
       "2                         0                                              0   \n",
       "3                         0                                              0   \n",
       "4                         1                                              0   \n",
       "\n",
       "   Database administrator  Designer  \\\n",
       "0                       1         0   \n",
       "1                       0         0   \n",
       "2                       1         0   \n",
       "3                       0         0   \n",
       "4                       1         0   \n",
       "\n",
       "   Desktop or enterprise applications developer  DevOps specialist  \\\n",
       "0                                             0                  1   \n",
       "1                                             1                  0   \n",
       "2                                             0                  0   \n",
       "3                                             0                  0   \n",
       "4                                             0                  1   \n",
       "\n",
       "   Educator or academic researcher  \\\n",
       "0                                0   \n",
       "1                                0   \n",
       "2                                0   \n",
       "3                                0   \n",
       "4                                0   \n",
       "\n",
       "   Embedded applications or devices developer  Engineering manager  \\\n",
       "0                                           0                    0   \n",
       "1                                           0                    0   \n",
       "2                                           0                    0   \n",
       "3                                           0                    0   \n",
       "4                                           0                    1   \n",
       "\n",
       "   Front-end developer  Full-stack developer  Game or graphics developer  \\\n",
       "0                    0                     1                           0   \n",
       "1                    0                     0                           1   \n",
       "2                    1                     1                           0   \n",
       "3                    1                     1                           0   \n",
       "4                    0                     1                           0   \n",
       "\n",
       "   Marketing or sales professional  Mobile developer  Product manager  \\\n",
       "0                                0                 0                0   \n",
       "1                                0                 0                0   \n",
       "2                                0                 0                0   \n",
       "3                                0                 0                0   \n",
       "4                                0                 0                0   \n",
       "\n",
       "   QA or test developer  Student  System administrator  \n",
       "0                     0        0                     1  \n",
       "1                     1        1                     0  \n",
       "2                     0        0                     0  \n",
       "3                     0        0                     0  \n",
       "4                     0        0                     1  "
      ]
     },
     "execution_count": 47,
     "metadata": {},
     "output_type": "execute_result"
    }
   ],
   "source": [
    "class DefaultEntry:\n",
    "    \n",
    "    def __init__(self, keys, default_value=0):\n",
    "        self._keys = keys\n",
    "        self._default_value = default_value\n",
    "        self._row_dict = {key: default_value for key in keys}\n",
    "        \n",
    "    def to_dict(self):\n",
    "        return self._row_dict\n",
    "\n",
    "    def to_df(self):\n",
    "        return pd.DataFrame(self._row_dict)\n",
    "    \n",
    "    \n",
    "\n",
    "dev_types = []\n",
    "for entry in df.DevType:\n",
    "    if entry is np.nan:\n",
    "        dev_types.append(DefaultEntry(dev_type_cols).to_dict())\n",
    "    else:\n",
    "        new_entry = DefaultEntry(dev_type_cols).to_dict()\n",
    "        new_entry.update(dict(Counter(entry.split(';'))))\n",
    "        dev_types.append(new_entry)\n",
    "        \n",
    "dev_types = pd.DataFrame(dev_types)\n",
    "\n",
    "dev_types.head()"
   ]
  },
  {
   "cell_type": "code",
   "execution_count": 48,
   "metadata": {},
   "outputs": [
    {
     "data": {
      "text/plain": [
       "Counter({'Taught yourself a new language, framework, or tool without taking a formal course': 40973,\n",
       "         'Contributed to open source software': 19577,\n",
       "         'Taken a part-time in-person course in programming or software development': 7782,\n",
       "         'Received on-the-job training in software development': 17709,\n",
       "         'Participated in online coding competitions (e.g. HackerRank, CodeChef, TopCoder)': 11115,\n",
       "         'Taken an online course in programming or software development (e.g. a MOOC)': 22665,\n",
       "         'Participated in a hackathon': 12812,\n",
       "         'Participated in a full-time developer training program or bootcamp': 4615,\n",
       "         'Completed an industry certification program (e.g. MCPD)': 6647})"
      ]
     },
     "execution_count": 48,
     "metadata": {},
     "output_type": "execute_result"
    }
   ],
   "source": [
    "education_list = []\n",
    "for entry in df.EducationTypes:\n",
    "    if entry is np.nan:\n",
    "        pass\n",
    "    else:\n",
    "        education_list.extend(entry.split(';'))\n",
    "\n",
    "education_counter = Counter(education_list)\n",
    "education_cols = sorted(education_counter.keys())\n",
    "education_counter"
   ]
  },
  {
   "cell_type": "code",
   "execution_count": 49,
   "metadata": {},
   "outputs": [
    {
     "data": {
      "text/html": [
       "<div>\n",
       "<style scoped>\n",
       "    .dataframe tbody tr th:only-of-type {\n",
       "        vertical-align: middle;\n",
       "    }\n",
       "\n",
       "    .dataframe tbody tr th {\n",
       "        vertical-align: top;\n",
       "    }\n",
       "\n",
       "    .dataframe thead th {\n",
       "        text-align: right;\n",
       "    }\n",
       "</style>\n",
       "<table border=\"1\" class=\"dataframe\">\n",
       "  <thead>\n",
       "    <tr style=\"text-align: right;\">\n",
       "      <th></th>\n",
       "      <th>Completed an industry certification program (e.g. MCPD)</th>\n",
       "      <th>Contributed to open source software</th>\n",
       "      <th>Participated in a full-time developer training program or bootcamp</th>\n",
       "      <th>Participated in a hackathon</th>\n",
       "      <th>Participated in online coding competitions (e.g. HackerRank, CodeChef, TopCoder)</th>\n",
       "      <th>Received on-the-job training in software development</th>\n",
       "      <th>Taken a part-time in-person course in programming or software development</th>\n",
       "      <th>Taken an online course in programming or software development (e.g. a MOOC)</th>\n",
       "      <th>Taught yourself a new language, framework, or tool without taking a formal course</th>\n",
       "    </tr>\n",
       "  </thead>\n",
       "  <tbody>\n",
       "    <tr>\n",
       "      <th>0</th>\n",
       "      <td>0</td>\n",
       "      <td>1</td>\n",
       "      <td>0</td>\n",
       "      <td>0</td>\n",
       "      <td>0</td>\n",
       "      <td>0</td>\n",
       "      <td>0</td>\n",
       "      <td>0</td>\n",
       "      <td>1</td>\n",
       "    </tr>\n",
       "    <tr>\n",
       "      <th>1</th>\n",
       "      <td>0</td>\n",
       "      <td>0</td>\n",
       "      <td>0</td>\n",
       "      <td>0</td>\n",
       "      <td>0</td>\n",
       "      <td>1</td>\n",
       "      <td>1</td>\n",
       "      <td>0</td>\n",
       "      <td>1</td>\n",
       "    </tr>\n",
       "    <tr>\n",
       "      <th>2</th>\n",
       "      <td>0</td>\n",
       "      <td>0</td>\n",
       "      <td>0</td>\n",
       "      <td>0</td>\n",
       "      <td>1</td>\n",
       "      <td>1</td>\n",
       "      <td>0</td>\n",
       "      <td>0</td>\n",
       "      <td>1</td>\n",
       "    </tr>\n",
       "    <tr>\n",
       "      <th>3</th>\n",
       "      <td>0</td>\n",
       "      <td>0</td>\n",
       "      <td>0</td>\n",
       "      <td>0</td>\n",
       "      <td>0</td>\n",
       "      <td>1</td>\n",
       "      <td>0</td>\n",
       "      <td>0</td>\n",
       "      <td>1</td>\n",
       "    </tr>\n",
       "    <tr>\n",
       "      <th>4</th>\n",
       "      <td>0</td>\n",
       "      <td>1</td>\n",
       "      <td>0</td>\n",
       "      <td>1</td>\n",
       "      <td>0</td>\n",
       "      <td>0</td>\n",
       "      <td>0</td>\n",
       "      <td>1</td>\n",
       "      <td>1</td>\n",
       "    </tr>\n",
       "  </tbody>\n",
       "</table>\n",
       "</div>"
      ],
      "text/plain": [
       "   Completed an industry certification program (e.g. MCPD)  \\\n",
       "0                                                  0         \n",
       "1                                                  0         \n",
       "2                                                  0         \n",
       "3                                                  0         \n",
       "4                                                  0         \n",
       "\n",
       "   Contributed to open source software  \\\n",
       "0                                    1   \n",
       "1                                    0   \n",
       "2                                    0   \n",
       "3                                    0   \n",
       "4                                    1   \n",
       "\n",
       "   Participated in a full-time developer training program or bootcamp  \\\n",
       "0                                                  0                    \n",
       "1                                                  0                    \n",
       "2                                                  0                    \n",
       "3                                                  0                    \n",
       "4                                                  0                    \n",
       "\n",
       "   Participated in a hackathon  \\\n",
       "0                            0   \n",
       "1                            0   \n",
       "2                            0   \n",
       "3                            0   \n",
       "4                            1   \n",
       "\n",
       "   Participated in online coding competitions (e.g. HackerRank, CodeChef, TopCoder)  \\\n",
       "0                                                  0                                  \n",
       "1                                                  0                                  \n",
       "2                                                  1                                  \n",
       "3                                                  0                                  \n",
       "4                                                  0                                  \n",
       "\n",
       "   Received on-the-job training in software development  \\\n",
       "0                                                  0      \n",
       "1                                                  1      \n",
       "2                                                  1      \n",
       "3                                                  1      \n",
       "4                                                  0      \n",
       "\n",
       "   Taken a part-time in-person course in programming or software development  \\\n",
       "0                                                  0                           \n",
       "1                                                  1                           \n",
       "2                                                  0                           \n",
       "3                                                  0                           \n",
       "4                                                  0                           \n",
       "\n",
       "   Taken an online course in programming or software development (e.g. a MOOC)  \\\n",
       "0                                                  0                             \n",
       "1                                                  0                             \n",
       "2                                                  0                             \n",
       "3                                                  0                             \n",
       "4                                                  1                             \n",
       "\n",
       "   Taught yourself a new language, framework, or tool without taking a formal course  \n",
       "0                                                  1                                  \n",
       "1                                                  1                                  \n",
       "2                                                  1                                  \n",
       "3                                                  1                                  \n",
       "4                                                  1                                  "
      ]
     },
     "execution_count": 49,
     "metadata": {},
     "output_type": "execute_result"
    }
   ],
   "source": [
    "education_types = []\n",
    "for entry in df.EducationTypes:\n",
    "    if entry is np.nan:\n",
    "        education_types.append(DefaultEntry(education_cols).to_dict())\n",
    "    else:\n",
    "        new_entry = DefaultEntry(education_cols).to_dict()\n",
    "        new_entry.update(dict(Counter(entry.split(';'))))\n",
    "        education_types.append(new_entry)\n",
    "        \n",
    "education_types = pd.DataFrame(education_types)\n",
    "\n",
    "education_types.head()"
   ]
  },
  {
   "cell_type": "code",
   "execution_count": 50,
   "metadata": {},
   "outputs": [
    {
     "data": {
      "text/plain": [
       "Counter({'JavaScript': 33804,\n",
       "         'Python': 18199,\n",
       "         'Bash/Shell': 20408,\n",
       "         'C': 9151,\n",
       "         'C++': 10566,\n",
       "         'Java': 20136,\n",
       "         'Matlab': 2400,\n",
       "         'R': 2908,\n",
       "         'SQL': 27823,\n",
       "         'TypeScript': 9085,\n",
       "         'HTML': 32257,\n",
       "         'CSS': 30864,\n",
       "         'Assembly': 2748,\n",
       "         'CoffeeScript': 1752,\n",
       "         'Erlang': 549,\n",
       "         'Go': 3671,\n",
       "         'Lua': 1585,\n",
       "         'Ruby': 5295,\n",
       "         'PHP': 13660,\n",
       "         'VB.NET': 3058,\n",
       "         'C#': 16764,\n",
       "         'Swift': 3816,\n",
       "         'Kotlin': 2186,\n",
       "         'Objective-C': 3371,\n",
       "         'Rust': 1163,\n",
       "         'Groovy': 2328,\n",
       "         'Scala': 2237,\n",
       "         'F#': 738,\n",
       "         'Haskell': 1157,\n",
       "         'Perl': 2030,\n",
       "         'Visual Basic 6': 1619,\n",
       "         'VBA': 2237,\n",
       "         'Ocaml': 235,\n",
       "         'Delphi/Object Pascal': 1071,\n",
       "         'Julia': 217,\n",
       "         'Hack': 109,\n",
       "         'Clojure': 696,\n",
       "         'Cobol': 302})"
      ]
     },
     "execution_count": 50,
     "metadata": {},
     "output_type": "execute_result"
    }
   ],
   "source": [
    "language_list = []\n",
    "for entry in df.LanguageWorkedWith:\n",
    "    if entry is np.nan:\n",
    "        pass\n",
    "    else:\n",
    "        language_list.extend(entry.split(';'))\n",
    "\n",
    "language_counter = Counter(language_list)\n",
    "language_cols = sorted(language_counter.keys())\n",
    "language_counter"
   ]
  },
  {
   "cell_type": "code",
   "execution_count": 51,
   "metadata": {},
   "outputs": [
    {
     "data": {
      "text/html": [
       "<div>\n",
       "<style scoped>\n",
       "    .dataframe tbody tr th:only-of-type {\n",
       "        vertical-align: middle;\n",
       "    }\n",
       "\n",
       "    .dataframe tbody tr th {\n",
       "        vertical-align: top;\n",
       "    }\n",
       "\n",
       "    .dataframe thead th {\n",
       "        text-align: right;\n",
       "    }\n",
       "</style>\n",
       "<table border=\"1\" class=\"dataframe\">\n",
       "  <thead>\n",
       "    <tr style=\"text-align: right;\">\n",
       "      <th></th>\n",
       "      <th>Assembly</th>\n",
       "      <th>Bash/Shell</th>\n",
       "      <th>C</th>\n",
       "      <th>C#</th>\n",
       "      <th>C++</th>\n",
       "      <th>CSS</th>\n",
       "      <th>Clojure</th>\n",
       "      <th>Cobol</th>\n",
       "      <th>CoffeeScript</th>\n",
       "      <th>Delphi/Object Pascal</th>\n",
       "      <th>...</th>\n",
       "      <th>R</th>\n",
       "      <th>Ruby</th>\n",
       "      <th>Rust</th>\n",
       "      <th>SQL</th>\n",
       "      <th>Scala</th>\n",
       "      <th>Swift</th>\n",
       "      <th>TypeScript</th>\n",
       "      <th>VB.NET</th>\n",
       "      <th>VBA</th>\n",
       "      <th>Visual Basic 6</th>\n",
       "    </tr>\n",
       "  </thead>\n",
       "  <tbody>\n",
       "    <tr>\n",
       "      <th>0</th>\n",
       "      <td>0</td>\n",
       "      <td>1</td>\n",
       "      <td>0</td>\n",
       "      <td>0</td>\n",
       "      <td>0</td>\n",
       "      <td>0</td>\n",
       "      <td>0</td>\n",
       "      <td>0</td>\n",
       "      <td>0</td>\n",
       "      <td>0</td>\n",
       "      <td>...</td>\n",
       "      <td>0</td>\n",
       "      <td>0</td>\n",
       "      <td>0</td>\n",
       "      <td>0</td>\n",
       "      <td>0</td>\n",
       "      <td>0</td>\n",
       "      <td>0</td>\n",
       "      <td>0</td>\n",
       "      <td>0</td>\n",
       "      <td>0</td>\n",
       "    </tr>\n",
       "    <tr>\n",
       "      <th>1</th>\n",
       "      <td>0</td>\n",
       "      <td>1</td>\n",
       "      <td>1</td>\n",
       "      <td>0</td>\n",
       "      <td>1</td>\n",
       "      <td>0</td>\n",
       "      <td>0</td>\n",
       "      <td>0</td>\n",
       "      <td>0</td>\n",
       "      <td>0</td>\n",
       "      <td>...</td>\n",
       "      <td>1</td>\n",
       "      <td>0</td>\n",
       "      <td>0</td>\n",
       "      <td>1</td>\n",
       "      <td>0</td>\n",
       "      <td>0</td>\n",
       "      <td>0</td>\n",
       "      <td>0</td>\n",
       "      <td>0</td>\n",
       "      <td>0</td>\n",
       "    </tr>\n",
       "    <tr>\n",
       "      <th>2</th>\n",
       "      <td>0</td>\n",
       "      <td>0</td>\n",
       "      <td>0</td>\n",
       "      <td>0</td>\n",
       "      <td>0</td>\n",
       "      <td>1</td>\n",
       "      <td>0</td>\n",
       "      <td>0</td>\n",
       "      <td>0</td>\n",
       "      <td>0</td>\n",
       "      <td>...</td>\n",
       "      <td>0</td>\n",
       "      <td>0</td>\n",
       "      <td>0</td>\n",
       "      <td>0</td>\n",
       "      <td>0</td>\n",
       "      <td>0</td>\n",
       "      <td>1</td>\n",
       "      <td>0</td>\n",
       "      <td>0</td>\n",
       "      <td>0</td>\n",
       "    </tr>\n",
       "    <tr>\n",
       "      <th>3</th>\n",
       "      <td>0</td>\n",
       "      <td>0</td>\n",
       "      <td>0</td>\n",
       "      <td>0</td>\n",
       "      <td>0</td>\n",
       "      <td>1</td>\n",
       "      <td>0</td>\n",
       "      <td>0</td>\n",
       "      <td>0</td>\n",
       "      <td>0</td>\n",
       "      <td>...</td>\n",
       "      <td>0</td>\n",
       "      <td>0</td>\n",
       "      <td>0</td>\n",
       "      <td>0</td>\n",
       "      <td>0</td>\n",
       "      <td>0</td>\n",
       "      <td>0</td>\n",
       "      <td>0</td>\n",
       "      <td>0</td>\n",
       "      <td>0</td>\n",
       "    </tr>\n",
       "    <tr>\n",
       "      <th>4</th>\n",
       "      <td>1</td>\n",
       "      <td>1</td>\n",
       "      <td>0</td>\n",
       "      <td>0</td>\n",
       "      <td>0</td>\n",
       "      <td>1</td>\n",
       "      <td>0</td>\n",
       "      <td>0</td>\n",
       "      <td>1</td>\n",
       "      <td>0</td>\n",
       "      <td>...</td>\n",
       "      <td>0</td>\n",
       "      <td>1</td>\n",
       "      <td>0</td>\n",
       "      <td>1</td>\n",
       "      <td>0</td>\n",
       "      <td>0</td>\n",
       "      <td>0</td>\n",
       "      <td>0</td>\n",
       "      <td>0</td>\n",
       "      <td>0</td>\n",
       "    </tr>\n",
       "  </tbody>\n",
       "</table>\n",
       "<p>5 rows × 38 columns</p>\n",
       "</div>"
      ],
      "text/plain": [
       "   Assembly  Bash/Shell  C  C#  C++  CSS  Clojure  Cobol  CoffeeScript  \\\n",
       "0         0           1  0   0    0    0        0      0             0   \n",
       "1         0           1  1   0    1    0        0      0             0   \n",
       "2         0           0  0   0    0    1        0      0             0   \n",
       "3         0           0  0   0    0    1        0      0             0   \n",
       "4         1           1  0   0    0    1        0      0             1   \n",
       "\n",
       "   Delphi/Object Pascal       ...        R  Ruby  Rust  SQL  Scala  Swift  \\\n",
       "0                     0       ...        0     0     0    0      0      0   \n",
       "1                     0       ...        1     0     0    1      0      0   \n",
       "2                     0       ...        0     0     0    0      0      0   \n",
       "3                     0       ...        0     0     0    0      0      0   \n",
       "4                     0       ...        0     1     0    1      0      0   \n",
       "\n",
       "   TypeScript  VB.NET  VBA  Visual Basic 6  \n",
       "0           0       0    0               0  \n",
       "1           0       0    0               0  \n",
       "2           1       0    0               0  \n",
       "3           0       0    0               0  \n",
       "4           0       0    0               0  \n",
       "\n",
       "[5 rows x 38 columns]"
      ]
     },
     "execution_count": 51,
     "metadata": {},
     "output_type": "execute_result"
    }
   ],
   "source": [
    "languages = []\n",
    "for entry in df.LanguageWorkedWith:\n",
    "    if entry is np.nan:\n",
    "        languages.append(DefaultEntry(language_cols).to_dict())\n",
    "    else:\n",
    "        new_entry = DefaultEntry(language_cols).to_dict()\n",
    "        new_entry.update(dict(Counter(entry.split(';'))))\n",
    "        languages.append(new_entry)\n",
    "        \n",
    "languages = pd.DataFrame(languages)\n",
    "\n",
    "languages.head()"
   ]
  },
  {
   "cell_type": "code",
   "execution_count": 55,
   "metadata": {},
   "outputs": [
    {
     "data": {
      "text/plain": [
       "(47702, 13)"
      ]
     },
     "execution_count": 55,
     "metadata": {},
     "output_type": "execute_result"
    }
   ],
   "source": [
    "converted_salary = df.ConvertedSalary.copy()\n",
    "\n",
    "df_cleaned = pd.concat([\n",
    "    company_size,\n",
    "    years_coding,\n",
    "    years_coding_prof,\n",
    "    hours_computer,\n",
    "    hours_outside,\n",
    "    exercise,\n",
    "    age,\n",
    "    dependents,\n",
    "    dev_types,\n",
    "    education_types,\n",
    "    languages,\n",
    "    converted_salary,\n",
    "], axis=1)\n",
    "\n",
    "df.shape"
   ]
  },
  {
   "cell_type": "markdown",
   "metadata": {},
   "source": [
    "## Finally doing it!!!"
   ]
  },
  {
   "cell_type": "code",
   "execution_count": 58,
   "metadata": {},
   "outputs": [],
   "source": [
    "from sklearn.linear_model import LinearRegression\n",
    "from sklearn.model_selection import train_test_split\n",
    "from sklearn.metrics import r2_score, mean_squared_error"
   ]
  },
  {
   "cell_type": "code",
   "execution_count": 144,
   "metadata": {},
   "outputs": [
    {
     "name": "stdout",
     "output_type": "stream",
     "text": [
      "Train R2: 0.04041907958373059\n",
      "Train MSE: 39128711714.30795\n",
      "Test R2: 0.03615659683935968\n",
      "Test MSE: 40107034635.66047\n"
     ]
    }
   ],
   "source": [
    "X = df_cleaned.drop(axis=1, labels='ConvertedSalary')\n",
    "y = df_cleaned.ConvertedSalary\n",
    "\n",
    "X_train, X_test, y_train, y_test = train_test_split(X, y, test_size=0.2, random_state=42)\n",
    "\n",
    "lm = LinearRegression(normalize=True)\n",
    "lm.fit(X_train, y_train)\n",
    "y_train_pred = lm.predict(X_train)\n",
    "y_test_pred = lm.predict(X_test)\n",
    "\n",
    "train_r2_score = r2_score(y_train, y_train_pred)\n",
    "train_mse = mean_squared_error(y_train, y_train_pred)\n",
    "test_r2_score = r2_score(y_test, y_test_pred)\n",
    "test_mse = mean_squared_error(y_test, y_test_pred)\n",
    "\n",
    "print(f\"Train R2: {train_r2_score}\")\n",
    "print(f\"Train MSE: {train_mse}\")\n",
    "print(f\"Test R2: {test_r2_score}\")\n",
    "print(f\"Test MSE: {test_mse}\")"
   ]
  },
  {
   "cell_type": "code",
   "execution_count": 145,
   "metadata": {},
   "outputs": [
    {
     "data": {
      "text/plain": [
       "0.03619409523128525"
      ]
     },
     "execution_count": 145,
     "metadata": {},
     "output_type": "execute_result"
    }
   ],
   "source": [
    "from sklearn.metrics import explained_variance_score\n",
    "explained_variance_score(y_test, y_test_pred)"
   ]
  },
  {
   "cell_type": "markdown",
   "metadata": {},
   "source": [
    "Drop outliers?"
   ]
  },
  {
   "cell_type": "code",
   "execution_count": 146,
   "metadata": {},
   "outputs": [],
   "source": [
    "df_drop_outliers = df_cleaned[df_cleaned.ConvertedSalary < 250000]"
   ]
  },
  {
   "cell_type": "code",
   "execution_count": 148,
   "metadata": {},
   "outputs": [
    {
     "name": "stdout",
     "output_type": "stream",
     "text": [
      "Train R2: 0.40036549287563894\n",
      "Train MSE: 1226809552.0668216\n",
      "Test R2: 0.3999853007502785\n",
      "Test MSE: 1260207152.215957\n"
     ]
    }
   ],
   "source": [
    "X = df_drop_outliers.drop(axis=1, labels='ConvertedSalary')\n",
    "y = df_drop_outliers.ConvertedSalary\n",
    "\n",
    "X_train, X_test, y_train, y_test = train_test_split(X, y, test_size=0.2, random_state=42)\n",
    "\n",
    "lm = LinearRegression(normalize=True)\n",
    "lm.fit(X_train, y_train)\n",
    "y_train_pred = lm.predict(X_train)\n",
    "y_test_pred = lm.predict(X_test)\n",
    "\n",
    "train_r2_score = r2_score(y_train, y_train_pred)\n",
    "train_mse = mean_squared_error(y_train, y_train_pred)\n",
    "test_r2_score = r2_score(y_test, y_test_pred)\n",
    "test_mse = mean_squared_error(y_test, y_test_pred)\n",
    "\n",
    "print(f\"Train R2: {train_r2_score}\")\n",
    "print(f\"Train MSE: {train_mse}\")\n",
    "print(f\"Test R2: {test_r2_score}\")\n",
    "print(f\"Test MSE: {test_mse}\")"
   ]
  },
  {
   "cell_type": "code",
   "execution_count": 149,
   "metadata": {},
   "outputs": [
    {
     "data": {
      "text/plain": [
       "<matplotlib.axes._subplots.AxesSubplot at 0x1a252d7240>"
      ]
     },
     "execution_count": 149,
     "metadata": {},
     "output_type": "execute_result"
    },
    {
     "data": {
      "image/png": "[encoded data removed]",
      "text/plain": [
       "<Figure size 432x288 with 1 Axes>"
      ]
     },
     "metadata": {
      "needs_background": "light"
     },
     "output_type": "display_data"
    }
   ],
   "source": [
    "train_resid = y_train_pred - y_train\n",
    "sns.scatterplot(y_train, train_resid, alpha=0.2)"
   ]
  },
  {
   "cell_type": "code",
   "execution_count": 150,
   "metadata": {},
   "outputs": [
    {
     "data": {
      "text/plain": [
       "<matplotlib.axes._subplots.AxesSubplot at 0x1a233de780>"
      ]
     },
     "execution_count": 150,
     "metadata": {},
     "output_type": "execute_result"
    },
    {
     "data": {
      "image/png": "[encoded data removed]",
      "text/plain": [
       "<Figure size 432x288 with 1 Axes>"
      ]
     },
     "metadata": {
      "needs_background": "light"
     },
     "output_type": "display_data"
    }
   ],
   "source": [
    "test_resid = y_test_pred - y_test\n",
    "sns.scatterplot(y_test, test_resid, alpha=0.2)"
   ]
  },
  {
   "cell_type": "code",
   "execution_count": 155,
   "metadata": {},
   "outputs": [
    {
     "name": "stdout",
     "output_type": "stream",
     "text": [
      "Train R2: 0.437253255140887\n",
      "Train MSE: 5574.473887434798\n",
      "Test R2: 0.43779942345380096\n",
      "Test MSE: 5643.252052922042\n"
     ]
    }
   ],
   "source": [
    "y = np.sqrt(df_drop_outliers.ConvertedSalary.values + 1)\n",
    "\n",
    "X_train, X_test, y_train, y_test = train_test_split(X, y, test_size=0.2, random_state=42)\n",
    "\n",
    "lm = LinearRegression(normalize=True)\n",
    "lm.fit(X_train, y_train)\n",
    "y_train_pred = lm.predict(X_train)\n",
    "y_test_pred = lm.predict(X_test)\n",
    "\n",
    "train_r2_score = r2_score(y_train, y_train_pred)\n",
    "train_mse = mean_squared_error(y_train, y_train_pred)\n",
    "test_r2_score = r2_score(y_test, y_test_pred)\n",
    "test_mse = mean_squared_error(y_test, y_test_pred)\n",
    "\n",
    "print(f\"Train R2: {train_r2_score}\")\n",
    "print(f\"Train MSE: {train_mse}\")\n",
    "print(f\"Test R2: {test_r2_score}\")\n",
    "print(f\"Test MSE: {test_mse}\")"
   ]
  },
  {
   "cell_type": "code",
   "execution_count": 156,
   "metadata": {},
   "outputs": [
    {
     "data": {
      "text/plain": [
       "<matplotlib.axes._subplots.AxesSubplot at 0x1a22023a58>"
      ]
     },
     "execution_count": 156,
     "metadata": {},
     "output_type": "execute_result"
    },
    {
     "data": {
      "image/png": "[encoded data removed]",
      "text/plain": [
       "<Figure size 432x288 with 1 Axes>"
      ]
     },
     "metadata": {
      "needs_background": "light"
     },
     "output_type": "display_data"
    }
   ],
   "source": [
    "train_resid = y_train_pred - y_train\n",
    "sns.scatterplot(y_train, train_resid, alpha=0.2)"
   ]
  },
  {
   "cell_type": "code",
   "execution_count": 157,
   "metadata": {},
   "outputs": [
    {
     "data": {
      "text/plain": [
       "<matplotlib.axes._subplots.AxesSubplot at 0x1a25e63b70>"
      ]
     },
     "execution_count": 157,
     "metadata": {},
     "output_type": "execute_result"
    },
    {
     "data": {
      "image/png": "[encoded data removed]",
      "text/plain": [
       "<Figure size 432x288 with 1 Axes>"
      ]
     },
     "metadata": {
      "needs_background": "light"
     },
     "output_type": "display_data"
    }
   ],
   "source": [
    "test_resid = y_test_pred - y_test\n",
    "sns.scatterplot(y_test, test_resid, alpha=0.2)"
   ]
  },
  {
   "cell_type": "code",
   "execution_count": 158,
   "metadata": {},
   "outputs": [
    {
     "data": {
      "text/html": [
       "<div>\n",
       "<style scoped>\n",
       "    .dataframe tbody tr th:only-of-type {\n",
       "        vertical-align: middle;\n",
       "    }\n",
       "\n",
       "    .dataframe tbody tr th {\n",
       "        vertical-align: top;\n",
       "    }\n",
       "\n",
       "    .dataframe thead th {\n",
       "        text-align: right;\n",
       "    }\n",
       "</style>\n",
       "<table border=\"1\" class=\"dataframe\">\n",
       "  <thead>\n",
       "    <tr style=\"text-align: right;\">\n",
       "      <th></th>\n",
       "      <th>feature</th>\n",
       "      <th>weight</th>\n",
       "    </tr>\n",
       "  </thead>\n",
       "  <tbody>\n",
       "    <tr>\n",
       "      <th>27</th>\n",
       "      <td>Student</td>\n",
       "      <td>-56.071373</td>\n",
       "    </tr>\n",
       "    <tr>\n",
       "      <th>47</th>\n",
       "      <td>Delphi/Object Pascal</td>\n",
       "      <td>-25.705365</td>\n",
       "    </tr>\n",
       "    <tr>\n",
       "      <th>63</th>\n",
       "      <td>PHP</td>\n",
       "      <td>-20.340593</td>\n",
       "    </tr>\n",
       "    <tr>\n",
       "      <th>22</th>\n",
       "      <td>Game or graphics developer</td>\n",
       "      <td>-14.662927</td>\n",
       "    </tr>\n",
       "    <tr>\n",
       "      <th>17</th>\n",
       "      <td>Educator or academic researcher</td>\n",
       "      <td>-12.981892</td>\n",
       "    </tr>\n",
       "    <tr>\n",
       "      <th>40</th>\n",
       "      <td>C</td>\n",
       "      <td>-12.715574</td>\n",
       "    </tr>\n",
       "    <tr>\n",
       "      <th>35</th>\n",
       "      <td>Taken a part-time in-person course in programm...</td>\n",
       "      <td>-12.679633</td>\n",
       "    </tr>\n",
       "    <tr>\n",
       "      <th>24</th>\n",
       "      <td>Mobile developer</td>\n",
       "      <td>-12.606349</td>\n",
       "    </tr>\n",
       "    <tr>\n",
       "      <th>75</th>\n",
       "      <td>Visual Basic 6</td>\n",
       "      <td>-12.537482</td>\n",
       "    </tr>\n",
       "    <tr>\n",
       "      <th>45</th>\n",
       "      <td>Cobol</td>\n",
       "      <td>-10.068755</td>\n",
       "    </tr>\n",
       "    <tr>\n",
       "      <th>52</th>\n",
       "      <td>HTML</td>\n",
       "      <td>-8.965723</td>\n",
       "    </tr>\n",
       "    <tr>\n",
       "      <th>14</th>\n",
       "      <td>Designer</td>\n",
       "      <td>-8.011120</td>\n",
       "    </tr>\n",
       "    <tr>\n",
       "      <th>13</th>\n",
       "      <td>Database administrator</td>\n",
       "      <td>-7.534909</td>\n",
       "    </tr>\n",
       "    <tr>\n",
       "      <th>55</th>\n",
       "      <td>Java</td>\n",
       "      <td>-7.519111</td>\n",
       "    </tr>\n",
       "    <tr>\n",
       "      <th>28</th>\n",
       "      <td>System administrator</td>\n",
       "      <td>-7.205726</td>\n",
       "    </tr>\n",
       "    <tr>\n",
       "      <th>38</th>\n",
       "      <td>Assembly</td>\n",
       "      <td>-6.074625</td>\n",
       "    </tr>\n",
       "    <tr>\n",
       "      <th>15</th>\n",
       "      <td>Desktop or enterprise applications developer</td>\n",
       "      <td>-5.589224</td>\n",
       "    </tr>\n",
       "    <tr>\n",
       "      <th>33</th>\n",
       "      <td>Participated in online coding competitions (e....</td>\n",
       "      <td>-5.502078</td>\n",
       "    </tr>\n",
       "    <tr>\n",
       "      <th>57</th>\n",
       "      <td>Julia</td>\n",
       "      <td>-4.235370</td>\n",
       "    </tr>\n",
       "    <tr>\n",
       "      <th>9</th>\n",
       "      <td>Back-end developer</td>\n",
       "      <td>-4.153434</td>\n",
       "    </tr>\n",
       "    <tr>\n",
       "      <th>10</th>\n",
       "      <td>C-suite executive (CEO, CTO, etc.)</td>\n",
       "      <td>-3.402368</td>\n",
       "    </tr>\n",
       "    <tr>\n",
       "      <th>36</th>\n",
       "      <td>Taken an online course in programming or softw...</td>\n",
       "      <td>-3.237337</td>\n",
       "    </tr>\n",
       "    <tr>\n",
       "      <th>60</th>\n",
       "      <td>Matlab</td>\n",
       "      <td>-2.980936</td>\n",
       "    </tr>\n",
       "    <tr>\n",
       "      <th>73</th>\n",
       "      <td>VB.NET</td>\n",
       "      <td>-1.452370</td>\n",
       "    </tr>\n",
       "    <tr>\n",
       "      <th>3</th>\n",
       "      <td>HoursComputer</td>\n",
       "      <td>-0.619806</td>\n",
       "    </tr>\n",
       "    <tr>\n",
       "      <th>11</th>\n",
       "      <td>Data or business analyst</td>\n",
       "      <td>-0.434271</td>\n",
       "    </tr>\n",
       "    <tr>\n",
       "      <th>42</th>\n",
       "      <td>C++</td>\n",
       "      <td>-0.426244</td>\n",
       "    </tr>\n",
       "    <tr>\n",
       "      <th>4</th>\n",
       "      <td>HoursOutside</td>\n",
       "      <td>-0.296528</td>\n",
       "    </tr>\n",
       "    <tr>\n",
       "      <th>0</th>\n",
       "      <td>CompanySize</td>\n",
       "      <td>0.003144</td>\n",
       "    </tr>\n",
       "    <tr>\n",
       "      <th>31</th>\n",
       "      <td>Participated in a full-time developer training...</td>\n",
       "      <td>0.045764</td>\n",
       "    </tr>\n",
       "    <tr>\n",
       "      <th>...</th>\n",
       "      <td>...</td>\n",
       "      <td>...</td>\n",
       "    </tr>\n",
       "    <tr>\n",
       "      <th>74</th>\n",
       "      <td>VBA</td>\n",
       "      <td>4.378136</td>\n",
       "    </tr>\n",
       "    <tr>\n",
       "      <th>56</th>\n",
       "      <td>JavaScript</td>\n",
       "      <td>4.959830</td>\n",
       "    </tr>\n",
       "    <tr>\n",
       "      <th>72</th>\n",
       "      <td>TypeScript</td>\n",
       "      <td>5.304845</td>\n",
       "    </tr>\n",
       "    <tr>\n",
       "      <th>12</th>\n",
       "      <td>Data scientist or machine learning specialist</td>\n",
       "      <td>6.415902</td>\n",
       "    </tr>\n",
       "    <tr>\n",
       "      <th>65</th>\n",
       "      <td>Python</td>\n",
       "      <td>7.407576</td>\n",
       "    </tr>\n",
       "    <tr>\n",
       "      <th>16</th>\n",
       "      <td>DevOps specialist</td>\n",
       "      <td>7.421452</td>\n",
       "    </tr>\n",
       "    <tr>\n",
       "      <th>21</th>\n",
       "      <td>Full-stack developer</td>\n",
       "      <td>7.584944</td>\n",
       "    </tr>\n",
       "    <tr>\n",
       "      <th>23</th>\n",
       "      <td>Marketing or sales professional</td>\n",
       "      <td>7.764702</td>\n",
       "    </tr>\n",
       "    <tr>\n",
       "      <th>66</th>\n",
       "      <td>R</td>\n",
       "      <td>7.778769</td>\n",
       "    </tr>\n",
       "    <tr>\n",
       "      <th>68</th>\n",
       "      <td>Rust</td>\n",
       "      <td>8.263260</td>\n",
       "    </tr>\n",
       "    <tr>\n",
       "      <th>48</th>\n",
       "      <td>Erlang</td>\n",
       "      <td>8.312466</td>\n",
       "    </tr>\n",
       "    <tr>\n",
       "      <th>41</th>\n",
       "      <td>C#</td>\n",
       "      <td>8.393565</td>\n",
       "    </tr>\n",
       "    <tr>\n",
       "      <th>51</th>\n",
       "      <td>Groovy</td>\n",
       "      <td>9.715384</td>\n",
       "    </tr>\n",
       "    <tr>\n",
       "      <th>71</th>\n",
       "      <td>Swift</td>\n",
       "      <td>10.082583</td>\n",
       "    </tr>\n",
       "    <tr>\n",
       "      <th>62</th>\n",
       "      <td>Ocaml</td>\n",
       "      <td>10.732173</td>\n",
       "    </tr>\n",
       "    <tr>\n",
       "      <th>61</th>\n",
       "      <td>Objective-C</td>\n",
       "      <td>10.761436</td>\n",
       "    </tr>\n",
       "    <tr>\n",
       "      <th>49</th>\n",
       "      <td>F#</td>\n",
       "      <td>10.790051</td>\n",
       "    </tr>\n",
       "    <tr>\n",
       "      <th>34</th>\n",
       "      <td>Received on-the-job training in software devel...</td>\n",
       "      <td>11.089675</td>\n",
       "    </tr>\n",
       "    <tr>\n",
       "      <th>7</th>\n",
       "      <td>Dependents_No</td>\n",
       "      <td>11.611221</td>\n",
       "    </tr>\n",
       "    <tr>\n",
       "      <th>30</th>\n",
       "      <td>Contributed to open source software</td>\n",
       "      <td>12.405370</td>\n",
       "    </tr>\n",
       "    <tr>\n",
       "      <th>44</th>\n",
       "      <td>Clojure</td>\n",
       "      <td>13.431055</td>\n",
       "    </tr>\n",
       "    <tr>\n",
       "      <th>32</th>\n",
       "      <td>Participated in a hackathon</td>\n",
       "      <td>14.625915</td>\n",
       "    </tr>\n",
       "    <tr>\n",
       "      <th>67</th>\n",
       "      <td>Ruby</td>\n",
       "      <td>15.023204</td>\n",
       "    </tr>\n",
       "    <tr>\n",
       "      <th>39</th>\n",
       "      <td>Bash/Shell</td>\n",
       "      <td>16.440405</td>\n",
       "    </tr>\n",
       "    <tr>\n",
       "      <th>50</th>\n",
       "      <td>Go</td>\n",
       "      <td>16.570873</td>\n",
       "    </tr>\n",
       "    <tr>\n",
       "      <th>8</th>\n",
       "      <td>Dependents_Yes</td>\n",
       "      <td>17.103853</td>\n",
       "    </tr>\n",
       "    <tr>\n",
       "      <th>70</th>\n",
       "      <td>Scala</td>\n",
       "      <td>17.349866</td>\n",
       "    </tr>\n",
       "    <tr>\n",
       "      <th>53</th>\n",
       "      <td>Hack</td>\n",
       "      <td>18.932148</td>\n",
       "    </tr>\n",
       "    <tr>\n",
       "      <th>37</th>\n",
       "      <td>Taught yourself a new language, framework, or ...</td>\n",
       "      <td>19.038062</td>\n",
       "    </tr>\n",
       "    <tr>\n",
       "      <th>19</th>\n",
       "      <td>Engineering manager</td>\n",
       "      <td>22.536869</td>\n",
       "    </tr>\n",
       "  </tbody>\n",
       "</table>\n",
       "<p>76 rows × 2 columns</p>\n",
       "</div>"
      ],
      "text/plain": [
       "                                              feature     weight\n",
       "27                                            Student -56.071373\n",
       "47                               Delphi/Object Pascal -25.705365\n",
       "63                                                PHP -20.340593\n",
       "22                         Game or graphics developer -14.662927\n",
       "17                    Educator or academic researcher -12.981892\n",
       "40                                                  C -12.715574\n",
       "35  Taken a part-time in-person course in programm... -12.679633\n",
       "24                                   Mobile developer -12.606349\n",
       "75                                     Visual Basic 6 -12.537482\n",
       "45                                              Cobol -10.068755\n",
       "52                                               HTML  -8.965723\n",
       "14                                           Designer  -8.011120\n",
       "13                             Database administrator  -7.534909\n",
       "55                                               Java  -7.519111\n",
       "28                               System administrator  -7.205726\n",
       "38                                           Assembly  -6.074625\n",
       "15       Desktop or enterprise applications developer  -5.589224\n",
       "33  Participated in online coding competitions (e....  -5.502078\n",
       "57                                              Julia  -4.235370\n",
       "9                                  Back-end developer  -4.153434\n",
       "10                 C-suite executive (CEO, CTO, etc.)  -3.402368\n",
       "36  Taken an online course in programming or softw...  -3.237337\n",
       "60                                             Matlab  -2.980936\n",
       "73                                             VB.NET  -1.452370\n",
       "3                                       HoursComputer  -0.619806\n",
       "11                           Data or business analyst  -0.434271\n",
       "42                                                C++  -0.426244\n",
       "4                                        HoursOutside  -0.296528\n",
       "0                                         CompanySize   0.003144\n",
       "31  Participated in a full-time developer training...   0.045764\n",
       "..                                                ...        ...\n",
       "74                                                VBA   4.378136\n",
       "56                                         JavaScript   4.959830\n",
       "72                                         TypeScript   5.304845\n",
       "12      Data scientist or machine learning specialist   6.415902\n",
       "65                                             Python   7.407576\n",
       "16                                  DevOps specialist   7.421452\n",
       "21                               Full-stack developer   7.584944\n",
       "23                    Marketing or sales professional   7.764702\n",
       "66                                                  R   7.778769\n",
       "68                                               Rust   8.263260\n",
       "48                                             Erlang   8.312466\n",
       "41                                                 C#   8.393565\n",
       "51                                             Groovy   9.715384\n",
       "71                                              Swift  10.082583\n",
       "62                                              Ocaml  10.732173\n",
       "61                                        Objective-C  10.761436\n",
       "49                                                 F#  10.790051\n",
       "34  Received on-the-job training in software devel...  11.089675\n",
       "7                                       Dependents_No  11.611221\n",
       "30                Contributed to open source software  12.405370\n",
       "44                                            Clojure  13.431055\n",
       "32                        Participated in a hackathon  14.625915\n",
       "67                                               Ruby  15.023204\n",
       "39                                         Bash/Shell  16.440405\n",
       "50                                                 Go  16.570873\n",
       "8                                      Dependents_Yes  17.103853\n",
       "70                                              Scala  17.349866\n",
       "53                                               Hack  18.932148\n",
       "37  Taught yourself a new language, framework, or ...  19.038062\n",
       "19                                Engineering manager  22.536869\n",
       "\n",
       "[76 rows x 2 columns]"
      ]
     },
     "execution_count": 158,
     "metadata": {},
     "output_type": "execute_result"
    }
   ],
   "source": [
    "feature_weights = pd.DataFrame({'feature': X_train.columns, 'weight': lm.coef_}).sort_values(by='weight')\n",
    "feature_weights"
   ]
  },
  {
   "cell_type": "code",
   "execution_count": 132,
   "metadata": {},
   "outputs": [
    {
     "data": {
      "image/png": "[encoded data removed]",
      "text/plain": [
       "<Figure size 432x288 with 1 Axes>"
      ]
     },
     "metadata": {
      "needs_background": "light"
     },
     "output_type": "display_data"
    }
   ],
   "source": [
    "sns.distplot(df_drop_outliers.loc[df_drop_outliers.Student == 0, 'ConvertedSalary'])\n",
    "sns.distplot(df_drop_outliers.loc[df_drop_outliers.Student == 1, 'ConvertedSalary'])\n",
    "plt.show()"
   ]
  },
  {
   "cell_type": "code",
   "execution_count": 166,
   "metadata": {},
   "outputs": [
    {
     "data": {
      "text/plain": [
       "CompanySize                                                0.013079\n",
       "YearsCoding                                                0.067616\n",
       "YearsCodingProf                                            0.059627\n",
       "HoursComputer                                              0.020504\n",
       "HoursOutside                                               0.021010\n",
       "Exercise                                                   0.022668\n",
       "Age                                                        0.037918\n",
       "Dependents_No                                             -0.004475\n",
       "Dependents_Yes                                             0.025005\n",
       "Back-end developer                                         0.051761\n",
       "C-suite executive (CEO, CTO, etc.)                         0.046057\n",
       "Data or business analyst                                   0.040271\n",
       "Data scientist or machine learning specialist              0.031945\n",
       "Database administrator                                     0.063988\n",
       "Designer                                                   0.046272\n",
       "Desktop or enterprise applications developer               0.046050\n",
       "DevOps specialist                                          0.055120\n",
       "Educator or academic researcher                            0.038061\n",
       "Embedded applications or devices developer                 0.032783\n",
       "Engineering manager                                        0.046574\n",
       "Front-end developer                                        0.042872\n",
       "Full-stack developer                                       0.053270\n",
       "Game or graphics developer                                 0.033787\n",
       "Marketing or sales professional                            0.030608\n",
       "Mobile developer                                           0.029831\n",
       "Product manager                                            0.050059\n",
       "QA or test developer                                       0.040112\n",
       "Student                                                    0.015229\n",
       "System administrator                                       0.063217\n",
       "Completed an industry certification program (e.g. MCPD)    0.037787\n",
       "                                                             ...   \n",
       "CoffeeScript                                               0.039370\n",
       "Delphi/Object Pascal                                       0.036098\n",
       "Erlang                                                     0.034256\n",
       "F#                                                         0.030611\n",
       "Go                                                         0.047278\n",
       "Groovy                                                     0.035554\n",
       "HTML                                                       0.071262\n",
       "Hack                                                       0.027980\n",
       "Haskell                                                    0.042045\n",
       "Java                                                       0.048495\n",
       "JavaScript                                                 0.063542\n",
       "Julia                                                      0.028228\n",
       "Kotlin                                                     0.026563\n",
       "Lua                                                        0.045839\n",
       "Matlab                                                     0.039217\n",
       "Objective-C                                                0.037731\n",
       "Ocaml                                                      0.032618\n",
       "PHP                                                        0.047807\n",
       "Perl                                                       0.049394\n",
       "Python                                                     0.054648\n",
       "R                                                          0.034056\n",
       "Ruby                                                       0.042993\n",
       "Rust                                                       0.038408\n",
       "SQL                                                        0.065036\n",
       "Scala                                                      0.031291\n",
       "Swift                                                      0.029098\n",
       "TypeScript                                                 0.040996\n",
       "VB.NET                                                     0.046762\n",
       "VBA                                                        0.044774\n",
       "Visual Basic 6                                             0.050626\n",
       "Length: 76, dtype: float64"
      ]
     },
     "execution_count": 166,
     "metadata": {},
     "output_type": "execute_result"
    }
   ],
   "source": [
    "X_train.corr().mean()"
   ]
  },
  {
   "cell_type": "code",
   "execution_count": 186,
   "metadata": {},
   "outputs": [
    {
     "data": {
      "text/plain": [
       "LassoCV(alphas=[0.1, 0.3, 1, 3, 10, 30, 100], copy_X=True, cv=3, eps=0.001,\n",
       "    fit_intercept=True, max_iter=1000, n_alphas=100, n_jobs=2,\n",
       "    normalize=False, positive=False, precompute='auto', random_state=42,\n",
       "    selection='cyclic', tol=0.0001, verbose=False)"
      ]
     },
     "execution_count": 186,
     "metadata": {},
     "output_type": "execute_result"
    }
   ],
   "source": [
    "from sklearn.linear_model import LassoCV\n",
    "\n",
    "lasso_cv_model = LassoCV(alphas=[0.1, 0.3, 1, 3, 10, 30, 100], cv=3, n_jobs=2, random_state=42)\n",
    "lasso_cv_model.fit(X_train, y_train)"
   ]
  },
  {
   "cell_type": "code",
   "execution_count": 187,
   "metadata": {},
   "outputs": [
    {
     "data": {
      "text/plain": [
       "0.4361385098239363"
      ]
     },
     "execution_count": 187,
     "metadata": {},
     "output_type": "execute_result"
    }
   ],
   "source": [
    "lasso_cv_model.score(X_train, y_train)"
   ]
  },
  {
   "cell_type": "code",
   "execution_count": 189,
   "metadata": {},
   "outputs": [
    {
     "data": {
      "text/plain": [
       "0.4361699161840087"
      ]
     },
     "execution_count": 189,
     "metadata": {},
     "output_type": "execute_result"
    }
   ],
   "source": [
    "lasso_cv_model.score(X_test, y_test)"
   ]
  },
  {
   "cell_type": "code",
   "execution_count": 188,
   "metadata": {},
   "outputs": [
    {
     "data": {
      "text/plain": [
       "array([ 3.18573470e-03,  1.90411089e+00,  2.47101383e+00, -6.10485431e-01,\n",
       "       -3.00703407e-01,  2.84820888e+00,  1.28657272e+00,  9.27333083e+00,\n",
       "        1.45344560e+01, -3.32190380e+00, -0.00000000e+00,  0.00000000e+00,\n",
       "        4.50119671e+00, -6.97759971e+00, -7.40819968e+00, -5.13820976e+00,\n",
       "        6.78313722e+00, -1.00487271e+01,  7.60905424e-01,  2.10771281e+01,\n",
       "        1.03851844e+00,  7.26403119e+00, -1.24940408e+01,  0.00000000e+00,\n",
       "       -1.15491654e+01,  0.00000000e+00,  0.00000000e+00, -5.59657020e+01,\n",
       "       -6.16363313e+00,  1.19886222e+00,  1.25448294e+01, -0.00000000e+00,\n",
       "        1.43869491e+01, -4.61023006e+00,  1.07678146e+01, -1.21025955e+01,\n",
       "       -2.52707153e+00,  1.87935309e+01, -4.26377707e+00,  1.64318151e+01,\n",
       "       -1.23809591e+01,  7.64699760e+00, -2.28582259e-01, -0.00000000e+00,\n",
       "        8.32606539e+00, -0.00000000e+00,  2.11082080e+00, -2.18931437e+01,\n",
       "        1.16230272e+00,  5.73389033e+00,  1.62255501e+01,  8.08841048e+00,\n",
       "       -7.51479887e+00,  0.00000000e+00,  0.00000000e+00, -7.08308590e+00,\n",
       "        4.40218895e+00, -0.00000000e+00,  1.62050933e+00,  0.00000000e+00,\n",
       "       -7.32883828e-01,  9.23559637e+00,  0.00000000e+00, -2.02334645e+01,\n",
       "        0.00000000e+00,  7.38792097e+00,  6.45327399e+00,  1.50654135e+01,\n",
       "        5.59289215e+00,  2.47414101e+00,  1.62747763e+01,  9.24992401e+00,\n",
       "        5.45999391e+00, -0.00000000e+00,  3.45499341e-01, -9.74912180e+00])"
      ]
     },
     "execution_count": 188,
     "metadata": {},
     "output_type": "execute_result"
    }
   ],
   "source": [
    "lasso_cv_model.coef_"
   ]
  },
  {
   "cell_type": "code",
   "execution_count": 192,
   "metadata": {},
   "outputs": [
    {
     "data": {
      "text/plain": [
       "RidgeCV(alphas=array([  0.1,   0.3,   1. ,   3. ,  10. ,  30. , 100. ]), cv=3,\n",
       "    fit_intercept=True, gcv_mode=None, normalize=False, scoring=None,\n",
       "    store_cv_values=False)"
      ]
     },
     "execution_count": 192,
     "metadata": {},
     "output_type": "execute_result"
    }
   ],
   "source": [
    "from sklearn.linear_model import RidgeCV\n",
    "ridge_cv_model = RidgeCV(alphas=[0.1, 0.3, 1, 3, 10, 30, 100], cv=3)\n",
    "ridge_cv_model.fit(X_train, y_train)"
   ]
  },
  {
   "cell_type": "code",
   "execution_count": 197,
   "metadata": {},
   "outputs": [
    {
     "data": {
      "text/plain": [
       "0.43711835056720416"
      ]
     },
     "execution_count": 197,
     "metadata": {},
     "output_type": "execute_result"
    }
   ],
   "source": [
    "r2_score(y_train, ridge_cv_model.predict(X_train))"
   ]
  },
  {
   "cell_type": "code",
   "execution_count": 198,
   "metadata": {},
   "outputs": [
    {
     "data": {
      "text/plain": [
       "0.43756342428097217"
      ]
     },
     "execution_count": 198,
     "metadata": {},
     "output_type": "execute_result"
    }
   ],
   "source": [
    "r2_score(y_test, ridge_cv_model.predict(X_test))"
   ]
  },
  {
   "cell_type": "code",
   "execution_count": 196,
   "metadata": {},
   "outputs": [
    {
     "data": {
      "text/plain": [
       "['Booster',\n",
       " 'DMatrix',\n",
       " 'VERSION_FILE',\n",
       " 'XGBClassifier',\n",
       " 'XGBModel',\n",
       " 'XGBRFClassifier',\n",
       " 'XGBRFRegressor',\n",
       " 'XGBRanker',\n",
       " 'XGBRegressor',\n",
       " '__all__',\n",
       " '__builtins__',\n",
       " '__cached__',\n",
       " '__doc__',\n",
       " '__file__',\n",
       " '__loader__',\n",
       " '__name__',\n",
       " '__package__',\n",
       " '__path__',\n",
       " '__spec__',\n",
       " '__version__',\n",
       " 'absolute_import',\n",
       " 'callback',\n",
       " 'compat',\n",
       " 'core',\n",
       " 'cv',\n",
       " 'f',\n",
       " 'libpath',\n",
       " 'os',\n",
       " 'plot_importance',\n",
       " 'plot_tree',\n",
       " 'plotting',\n",
       " 'rabit',\n",
       " 'sklearn',\n",
       " 'to_graphviz',\n",
       " 'train',\n",
       " 'training']"
      ]
     },
     "execution_count": 196,
     "metadata": {},
     "output_type": "execute_result"
    }
   ],
   "source": [
    "import xgboost\n",
    "dir(xgboost)"
   ]
  },
  {
   "cell_type": "code",
   "execution_count": 217,
   "metadata": {},
   "outputs": [],
   "source": [
    "from xgboost import XGBRegressor\n",
    "from sklearn.model_selection import KFold, cross_validate\n",
    "\n",
    "xgb_model = XGBRegressor(objective='reg:squarederror', seed=42)\n",
    "kfold = KFold(n_splits=5, random_state=42)\n",
    "results = cross_validate(xgb_model, X_train, y_train, scoring='r2', cv=kfold)"
   ]
  },
  {
   "cell_type": "code",
   "execution_count": 221,
   "metadata": {},
   "outputs": [
    {
     "data": {
      "text/plain": [
       "0.46099866456167204"
      ]
     },
     "execution_count": 221,
     "metadata": {},
     "output_type": "execute_result"
    }
   ],
   "source": [
    "results['test_score'].mean()"
   ]
  },
  {
   "cell_type": "code",
   "execution_count": 222,
   "metadata": {},
   "outputs": [
    {
     "data": {
      "text/plain": [
       "\u001b[0;31mInit signature:\u001b[0m\n",
       "\u001b[0mXGBRegressor\u001b[0m\u001b[0;34m(\u001b[0m\u001b[0;34m\u001b[0m\n",
       "\u001b[0;34m\u001b[0m    \u001b[0;34m[\u001b[0m\u001b[0;34m'max_depth=3'\u001b[0m\u001b[0;34m,\u001b[0m \u001b[0;34m'learning_rate=0.1'\u001b[0m\u001b[0;34m,\u001b[0m \u001b[0;34m'n_estimators=100'\u001b[0m\u001b[0;34m,\u001b[0m \u001b[0;34m'verbosity=1'\u001b[0m\u001b[0;34m,\u001b[0m \u001b[0;34m'silent=None'\u001b[0m\u001b[0;34m,\u001b[0m \u001b[0;34m\"objective='reg:linear'\"\u001b[0m\u001b[0;34m,\u001b[0m \u001b[0;34m\"booster='gbtree'\"\u001b[0m\u001b[0;34m,\u001b[0m \u001b[0;34m'n_jobs=1'\u001b[0m\u001b[0;34m,\u001b[0m \u001b[0;34m'nthread=None'\u001b[0m\u001b[0;34m,\u001b[0m \u001b[0;34m'gamma=0'\u001b[0m\u001b[0;34m,\u001b[0m \u001b[0;34m'min_child_weight=1'\u001b[0m\u001b[0;34m,\u001b[0m \u001b[0;34m'max_delta_step=0'\u001b[0m\u001b[0;34m,\u001b[0m \u001b[0;34m'subsample=1'\u001b[0m\u001b[0;34m,\u001b[0m \u001b[0;34m'colsample_bytree=1'\u001b[0m\u001b[0;34m,\u001b[0m \u001b[0;34m'colsample_bylevel=1'\u001b[0m\u001b[0;34m,\u001b[0m \u001b[0;34m'colsample_bynode=1'\u001b[0m\u001b[0;34m,\u001b[0m \u001b[0;34m'reg_alpha=0'\u001b[0m\u001b[0;34m,\u001b[0m \u001b[0;34m'reg_lambda=1'\u001b[0m\u001b[0;34m,\u001b[0m \u001b[0;34m'scale_pos_weight=1'\u001b[0m\u001b[0;34m,\u001b[0m \u001b[0;34m'base_score=0.5'\u001b[0m\u001b[0;34m,\u001b[0m \u001b[0;34m'random_state=0'\u001b[0m\u001b[0;34m,\u001b[0m \u001b[0;34m'seed=None'\u001b[0m\u001b[0;34m,\u001b[0m \u001b[0;34m'missing=None'\u001b[0m\u001b[0;34m,\u001b[0m \u001b[0;34m\"importance_type='gain'\"\u001b[0m\u001b[0;34m,\u001b[0m \u001b[0;34m'**kwargs'\u001b[0m\u001b[0;34m]\u001b[0m\u001b[0;34m,\u001b[0m\u001b[0;34m\u001b[0m\n",
       "\u001b[0;34m\u001b[0m\u001b[0;34m)\u001b[0m\u001b[0;34m\u001b[0m\u001b[0;34m\u001b[0m\u001b[0m\n",
       "\u001b[0;31mDocstring:\u001b[0m     \n",
       "Implementation of the scikit-learn API for XGBoost regression.\n",
       "\n",
       "Parameters\n",
       "----------\n",
       "max_depth : int\n",
       "    Maximum tree depth for base learners.\n",
       "learning_rate : float\n",
       "    Boosting learning rate (xgb's \"eta\")\n",
       "n_estimators : int\n",
       "    Number of trees to fit.\n",
       "verbosity : int\n",
       "    The degree of verbosity. Valid values are 0 (silent) - 3 (debug).\n",
       "silent : boolean\n",
       "    Whether to print messages while running boosting. Deprecated. Use verbosity instead.\n",
       "objective : string or callable\n",
       "    Specify the learning task and the corresponding learning objective or\n",
       "    a custom objective function to be used (see note below).\n",
       "booster: string\n",
       "    Specify which booster to use: gbtree, gblinear or dart.\n",
       "nthread : int\n",
       "    Number of parallel threads used to run xgboost.  (Deprecated, please use ``n_jobs``)\n",
       "n_jobs : int\n",
       "    Number of parallel threads used to run xgboost.  (replaces ``nthread``)\n",
       "gamma : float\n",
       "    Minimum loss reduction required to make a further partition on a leaf node of the tree.\n",
       "min_child_weight : int\n",
       "    Minimum sum of instance weight(hessian) needed in a child.\n",
       "max_delta_step : int\n",
       "    Maximum delta step we allow each tree's weight estimation to be.\n",
       "subsample : float\n",
       "    Subsample ratio of the training instance.\n",
       "colsample_bytree : float\n",
       "    Subsample ratio of columns when constructing each tree.\n",
       "colsample_bylevel : float\n",
       "    Subsample ratio of columns for each level.\n",
       "colsample_bynode : float\n",
       "    Subsample ratio of columns for each split.\n",
       "reg_alpha : float (xgb's alpha)\n",
       "    L1 regularization term on weights\n",
       "reg_lambda : float (xgb's lambda)\n",
       "    L2 regularization term on weights\n",
       "scale_pos_weight : float\n",
       "    Balancing of positive and negative weights.\n",
       "base_score:\n",
       "    The initial prediction score of all instances, global bias.\n",
       "seed : int\n",
       "    Random number seed.  (Deprecated, please use random_state)\n",
       "random_state : int\n",
       "    Random number seed.  (replaces seed)\n",
       "missing : float, optional\n",
       "    Value in the data which needs to be present as a missing value. If\n",
       "    None, defaults to np.nan.\n",
       "importance_type: string, default \"gain\"\n",
       "    The feature importance type for the feature_importances_ property: either \"gain\",\n",
       "    \"weight\", \"cover\", \"total_gain\" or \"total_cover\".\n",
       "\\*\\*kwargs : dict, optional\n",
       "    Keyword arguments for XGBoost Booster object.  Full documentation of parameters can\n",
       "    be found here: https://github.com/dmlc/xgboost/blob/master/doc/parameter.rst.\n",
       "    Attempting to set a parameter via the constructor args and \\*\\*kwargs dict simultaneously\n",
       "    will result in a TypeError.\n",
       "\n",
       "    .. note:: \\*\\*kwargs unsupported by scikit-learn\n",
       "\n",
       "        \\*\\*kwargs is unsupported by scikit-learn.  We do not guarantee that parameters\n",
       "        passed via this argument will interact properly with scikit-learn.\n",
       "\n",
       "Note\n",
       "----\n",
       "A custom objective function can be provided for the ``objective``\n",
       "parameter. In this case, it should have the signature\n",
       "``objective(y_true, y_pred) -> grad, hess``:\n",
       "\n",
       "y_true: array_like of shape [n_samples]\n",
       "    The target values\n",
       "y_pred: array_like of shape [n_samples]\n",
       "    The predicted values\n",
       "\n",
       "grad: array_like of shape [n_samples]\n",
       "    The value of the gradient for each sample point.\n",
       "hess: array_like of shape [n_samples]\n",
       "    The value of the second derivative for each sample point\n",
       "\u001b[0;31mFile:\u001b[0m           ~/anaconda3/lib/python3.7/site-packages/xgboost/sklearn.py\n",
       "\u001b[0;31mType:\u001b[0m           type\n",
       "\u001b[0;31mSubclasses:\u001b[0m     XGBRFRegressor\n"
      ]
     },
     "metadata": {},
     "output_type": "display_data"
    }
   ],
   "source": [
    "?XGBRegressor"
   ]
  },
  {
   "cell_type": "code",
   "execution_count": 224,
   "metadata": {},
   "outputs": [],
   "source": [
    "from hyperopt import hp, tpe, Trials, fmin\n",
    "\n",
    "space = {\n",
    "    'learning_rate': hp.loguniform('learning_rate', np.log(0.005), np.log(0.2)),\n",
    "}\n",
    "\n",
    "bayes_trials = Trials()\n",
    "\n",
    "best_xgb_model = fmin(fn=None)"
   ]
  },
  {
   "cell_type": "code",
   "execution_count": null,
   "metadata": {},
   "outputs": [],
   "source": [
    "# Need to use early stopping on xgboost algo\n",
    "# Need to define objective \n",
    "# Do hyperopt and get outta here"
   ]
  }
 ],
 "metadata": {
  "kernelspec": {
   "display_name": "Python 3",
   "language": "python",
   "name": "python3"
  },
  "language_info": {
   "codemirror_mode": {
    "name": "ipython",
    "version": 3
   },
   "file_extension": ".py",
   "mimetype": "text/x-python",
   "name": "python",
   "nbconvert_exporter": "python",
   "pygments_lexer": "ipython3",
   "version": "3.7.1"
  }
 },
 "nbformat": 4,
 "nbformat_minor": 2
}
