{
 "cells": [
  {
   "cell_type": "markdown",
   "metadata": {},
   "source": [
    "# StackOverflow 2018 Survey\n",
    "\n",
    "## Getting started"
   ]
  },
  {
   "cell_type": "markdown",
   "metadata": {},
   "source": [
    "1. How many people are there like me? What fraction of this sample - fraction or breakdown/barchart (acknowledge nans)\n",
    "2. How do I compare with others in terms of years coding - distribution plots\n",
    "3. How does my group compare with others in terms of years coding\n",
    "4. Where are the best job opportunities for people like me? (jobs with high job satisfaction)\n",
    "5. Anything that could boost salary?\n",
    "6. Other odd things about us (i.e., categories that stand out from rest of population"
   ]
  },
  {
   "cell_type": "code",
   "execution_count": 52,
   "metadata": {},
   "outputs": [],
   "source": [
    "from   collections import Counter\n",
    "import matplotlib.pyplot as plt\n",
    "import numpy as np\n",
    "import pandas as pd\n",
    "from   pathlib import Path\n",
    "from   pprint import pprint\n",
    "import seaborn as sns\n",
    "\n",
    "from   sklearn.preprocessing import Imputer, StandardScaler\n",
    "from   sklearn.decomposition import PCA\n",
    "from   sklearn.cluster import MiniBatchKMeans\n",
    "\n",
    "%matplotlib inline"
   ]
  },
  {
   "cell_type": "markdown",
   "metadata": {},
   "source": [
    "## Exploratory Data Analysis"
   ]
  },
  {
   "cell_type": "code",
   "execution_count": 53,
   "metadata": {},
   "outputs": [],
   "source": [
    "csv_path = Path(\"../data/survey_results_public.csv\")\n",
    "schema_path = Path(\"../data/survey_results_schema.csv\")"
   ]
  },
  {
   "cell_type": "code",
   "execution_count": 54,
   "metadata": {},
   "outputs": [],
   "source": [
    "df = pd.read_csv(csv_path, low_memory=False)\n",
    "schema = pd.read_csv(schema_path)"
   ]
  },
  {
   "cell_type": "code",
   "execution_count": 55,
   "metadata": {},
   "outputs": [
    {
     "data": {
      "text/plain": [
       "(98855, 129)"
      ]
     },
     "execution_count": 55,
     "metadata": {},
     "output_type": "execute_result"
    }
   ],
   "source": [
    "df.shape"
   ]
  },
  {
   "cell_type": "code",
   "execution_count": 35,
   "metadata": {},
   "outputs": [
    {
     "name": "stdout",
     "output_type": "stream",
     "text": [
      "['Respondent',\n",
      " 'Hobby',\n",
      " 'OpenSource',\n",
      " 'Country',\n",
      " 'Student',\n",
      " 'Employment',\n",
      " 'FormalEducation',\n",
      " 'UndergradMajor',\n",
      " 'CompanySize',\n",
      " 'DevType',\n",
      " 'YearsCoding',\n",
      " 'YearsCodingProf',\n",
      " 'JobSatisfaction',\n",
      " 'CareerSatisfaction',\n",
      " 'HopeFiveYears',\n",
      " 'JobSearchStatus',\n",
      " 'LastNewJob',\n",
      " 'AssessJob1',\n",
      " 'AssessJob2',\n",
      " 'AssessJob3',\n",
      " 'AssessJob4',\n",
      " 'AssessJob5',\n",
      " 'AssessJob6',\n",
      " 'AssessJob7',\n",
      " 'AssessJob8',\n",
      " 'AssessJob9',\n",
      " 'AssessJob10',\n",
      " 'AssessBenefits1',\n",
      " 'AssessBenefits2',\n",
      " 'AssessBenefits3',\n",
      " 'AssessBenefits4',\n",
      " 'AssessBenefits5',\n",
      " 'AssessBenefits6',\n",
      " 'AssessBenefits7',\n",
      " 'AssessBenefits8',\n",
      " 'AssessBenefits9',\n",
      " 'AssessBenefits10',\n",
      " 'AssessBenefits11',\n",
      " 'JobContactPriorities1',\n",
      " 'JobContactPriorities2',\n",
      " 'JobContactPriorities3',\n",
      " 'JobContactPriorities4',\n",
      " 'JobContactPriorities5',\n",
      " 'JobEmailPriorities1',\n",
      " 'JobEmailPriorities2',\n",
      " 'JobEmailPriorities3',\n",
      " 'JobEmailPriorities4',\n",
      " 'JobEmailPriorities5',\n",
      " 'JobEmailPriorities6',\n",
      " 'JobEmailPriorities7',\n",
      " 'UpdateCV',\n",
      " 'Currency',\n",
      " 'Salary',\n",
      " 'SalaryType',\n",
      " 'ConvertedSalary',\n",
      " 'CurrencySymbol',\n",
      " 'CommunicationTools',\n",
      " 'TimeFullyProductive',\n",
      " 'EducationTypes',\n",
      " 'SelfTaughtTypes',\n",
      " 'TimeAfterBootcamp',\n",
      " 'HackathonReasons',\n",
      " 'AgreeDisagree1',\n",
      " 'AgreeDisagree2',\n",
      " 'AgreeDisagree3',\n",
      " 'LanguageWorkedWith',\n",
      " 'LanguageDesireNextYear',\n",
      " 'DatabaseWorkedWith',\n",
      " 'DatabaseDesireNextYear',\n",
      " 'PlatformWorkedWith',\n",
      " 'PlatformDesireNextYear',\n",
      " 'FrameworkWorkedWith',\n",
      " 'FrameworkDesireNextYear',\n",
      " 'IDE',\n",
      " 'OperatingSystem',\n",
      " 'NumberMonitors',\n",
      " 'Methodology',\n",
      " 'VersionControl',\n",
      " 'CheckInCode',\n",
      " 'AdBlocker',\n",
      " 'AdBlockerDisable',\n",
      " 'AdBlockerReasons',\n",
      " 'AdsAgreeDisagree1',\n",
      " 'AdsAgreeDisagree2',\n",
      " 'AdsAgreeDisagree3',\n",
      " 'AdsActions',\n",
      " 'AdsPriorities1',\n",
      " 'AdsPriorities2',\n",
      " 'AdsPriorities3',\n",
      " 'AdsPriorities4',\n",
      " 'AdsPriorities5',\n",
      " 'AdsPriorities6',\n",
      " 'AdsPriorities7',\n",
      " 'AIDangerous',\n",
      " 'AIInteresting',\n",
      " 'AIResponsible',\n",
      " 'AIFuture',\n",
      " 'EthicsChoice',\n",
      " 'EthicsReport',\n",
      " 'EthicsResponsible',\n",
      " 'EthicalImplications',\n",
      " 'StackOverflowRecommend',\n",
      " 'StackOverflowVisit',\n",
      " 'StackOverflowHasAccount',\n",
      " 'StackOverflowParticipate',\n",
      " 'StackOverflowJobs',\n",
      " 'StackOverflowDevStory',\n",
      " 'StackOverflowJobsRecommend',\n",
      " 'StackOverflowConsiderMember',\n",
      " 'HypotheticalTools1',\n",
      " 'HypotheticalTools2',\n",
      " 'HypotheticalTools3',\n",
      " 'HypotheticalTools4',\n",
      " 'HypotheticalTools5',\n",
      " 'WakeTime',\n",
      " 'HoursComputer',\n",
      " 'HoursOutside',\n",
      " 'SkipMeals',\n",
      " 'ErgonomicDevices',\n",
      " 'Exercise',\n",
      " 'Gender',\n",
      " 'SexualOrientation',\n",
      " 'EducationParents',\n",
      " 'RaceEthnicity',\n",
      " 'Age',\n",
      " 'Dependents',\n",
      " 'MilitaryUS',\n",
      " 'SurveyTooLong',\n",
      " 'SurveyEasy']\n"
     ]
    }
   ],
   "source": [
    "pprint(list(df.columns))"
   ]
  },
  {
   "cell_type": "code",
   "execution_count": 5,
   "metadata": {},
   "outputs": [
    {
     "data": {
      "text/plain": [
       "(129, 2)"
      ]
     },
     "execution_count": 5,
     "metadata": {},
     "output_type": "execute_result"
    }
   ],
   "source": [
    "schema.shape"
   ]
  },
  {
   "cell_type": "code",
   "execution_count": 6,
   "metadata": {},
   "outputs": [
    {
     "name": "stdout",
     "output_type": "stream",
     "text": [
      "['Bachelor’s degree (BA, BS, B.Eng., etc.)',\n",
      " 'Associate degree',\n",
      " 'Some college/university study without earning a degree',\n",
      " 'Master’s degree (MA, MS, M.Eng., MBA, etc.)',\n",
      " 'Secondary school (e.g. American high school, German Realschule or Gymnasium, '\n",
      " 'etc.)',\n",
      " nan,\n",
      " 'Primary/elementary school',\n",
      " 'Professional degree (JD, MD, etc.)',\n",
      " 'I never completed any formal education',\n",
      " 'Other doctoral degree (Ph.D, Ed.D., etc.)']\n"
     ]
    }
   ],
   "source": [
    "pprint(list(df.FormalEducation.unique()))"
   ]
  },
  {
   "cell_type": "code",
   "execution_count": 7,
   "metadata": {},
   "outputs": [
    {
     "name": "stdout",
     "output_type": "stream",
     "text": [
      "['Mathematics or statistics',\n",
      " 'A natural science (ex. biology, chemistry, physics)',\n",
      " 'Computer science, computer engineering, or software engineering',\n",
      " 'Fine arts or performing arts (ex. graphic design, music, studio art)',\n",
      " 'Information systems, information technology, or system administration',\n",
      " 'Another engineering discipline (ex. civil, electrical, mechanical)',\n",
      " nan,\n",
      " 'A business discipline (ex. accounting, finance, marketing)',\n",
      " 'A social science (ex. anthropology, psychology, political science)',\n",
      " 'Web development or web design',\n",
      " 'A humanities discipline (ex. literature, history, philosophy)',\n",
      " 'A health science (ex. nursing, pharmacy, radiology)',\n",
      " 'I never declared a major']\n"
     ]
    }
   ],
   "source": [
    "pprint(list(df.UndergradMajor.unique()))"
   ]
  },
  {
   "cell_type": "code",
   "execution_count": 24,
   "metadata": {},
   "outputs": [
    {
     "data": {
      "text/html": [
       "<div>\n",
       "<style scoped>\n",
       "    .dataframe tbody tr th:only-of-type {\n",
       "        vertical-align: middle;\n",
       "    }\n",
       "\n",
       "    .dataframe tbody tr th {\n",
       "        vertical-align: top;\n",
       "    }\n",
       "\n",
       "    .dataframe thead th {\n",
       "        text-align: right;\n",
       "    }\n",
       "</style>\n",
       "<table border=\"1\" class=\"dataframe\">\n",
       "  <thead>\n",
       "    <tr style=\"text-align: right;\">\n",
       "      <th></th>\n",
       "      <th>major</th>\n",
       "      <th>count</th>\n",
       "    </tr>\n",
       "  </thead>\n",
       "  <tbody>\n",
       "    <tr>\n",
       "      <th>0</th>\n",
       "      <td>Mathematics or statistics</td>\n",
       "      <td>2818</td>\n",
       "    </tr>\n",
       "    <tr>\n",
       "      <th>1</th>\n",
       "      <td>A natural science (ex. biology, chemistry, phy...</td>\n",
       "      <td>3050</td>\n",
       "    </tr>\n",
       "    <tr>\n",
       "      <th>2</th>\n",
       "      <td>Computer science, computer engineering, or sof...</td>\n",
       "      <td>50336</td>\n",
       "    </tr>\n",
       "    <tr>\n",
       "      <th>3</th>\n",
       "      <td>Fine arts or performing arts (ex. graphic desi...</td>\n",
       "      <td>1135</td>\n",
       "    </tr>\n",
       "    <tr>\n",
       "      <th>4</th>\n",
       "      <td>Information systems, information technology, o...</td>\n",
       "      <td>6507</td>\n",
       "    </tr>\n",
       "    <tr>\n",
       "      <th>5</th>\n",
       "      <td>Another engineering discipline (ex. civil, ele...</td>\n",
       "      <td>6945</td>\n",
       "    </tr>\n",
       "    <tr>\n",
       "      <th>6</th>\n",
       "      <td>NaN</td>\n",
       "      <td>19819</td>\n",
       "    </tr>\n",
       "    <tr>\n",
       "      <th>7</th>\n",
       "      <td>A business discipline (ex. accounting, finance...</td>\n",
       "      <td>1921</td>\n",
       "    </tr>\n",
       "    <tr>\n",
       "      <th>8</th>\n",
       "      <td>A social science (ex. anthropology, psychology...</td>\n",
       "      <td>1377</td>\n",
       "    </tr>\n",
       "    <tr>\n",
       "      <th>9</th>\n",
       "      <td>Web development or web design</td>\n",
       "      <td>2418</td>\n",
       "    </tr>\n",
       "    <tr>\n",
       "      <th>10</th>\n",
       "      <td>A humanities discipline (ex. literature, histo...</td>\n",
       "      <td>1590</td>\n",
       "    </tr>\n",
       "    <tr>\n",
       "      <th>11</th>\n",
       "      <td>A health science (ex. nursing, pharmacy, radio...</td>\n",
       "      <td>246</td>\n",
       "    </tr>\n",
       "    <tr>\n",
       "      <th>12</th>\n",
       "      <td>I never declared a major</td>\n",
       "      <td>693</td>\n",
       "    </tr>\n",
       "  </tbody>\n",
       "</table>\n",
       "</div>"
      ],
      "text/plain": [
       "                                                major  count\n",
       "0                           Mathematics or statistics   2818\n",
       "1   A natural science (ex. biology, chemistry, phy...   3050\n",
       "2   Computer science, computer engineering, or sof...  50336\n",
       "3   Fine arts or performing arts (ex. graphic desi...   1135\n",
       "4   Information systems, information technology, o...   6507\n",
       "5   Another engineering discipline (ex. civil, ele...   6945\n",
       "6                                                 NaN  19819\n",
       "7   A business discipline (ex. accounting, finance...   1921\n",
       "8   A social science (ex. anthropology, psychology...   1377\n",
       "9                       Web development or web design   2418\n",
       "10  A humanities discipline (ex. literature, histo...   1590\n",
       "11  A health science (ex. nursing, pharmacy, radio...    246\n",
       "12                           I never declared a major    693"
      ]
     },
     "execution_count": 24,
     "metadata": {},
     "output_type": "execute_result"
    }
   ],
   "source": [
    "undergrad_counter = Counter(df.UndergradMajor)\n",
    "undergrad_data = pd.Series(dict(undergrad_counter))\n",
    "undergrad_data = undergrad_data.reset_index()\n",
    "undergrad_data.columns = ['major', 'count']\n",
    "undergrad_data"
   ]
  },
  {
   "cell_type": "code",
   "execution_count": 8,
   "metadata": {},
   "outputs": [
    {
     "data": {
      "text/plain": [
       "2214"
      ]
     },
     "execution_count": 8,
     "metadata": {},
     "output_type": "execute_result"
    }
   ],
   "source": [
    "sum(df.FormalEducation == 'Other doctoral degree (Ph.D, Ed.D., etc.)')"
   ]
  },
  {
   "cell_type": "code",
   "execution_count": 9,
   "metadata": {},
   "outputs": [
    {
     "data": {
      "text/plain": [
       "21396"
      ]
     },
     "execution_count": 9,
     "metadata": {},
     "output_type": "execute_result"
    }
   ],
   "source": [
    "sum(df.FormalEducation == 'Master’s degree (MA, MS, M.Eng., MBA, etc.)')"
   ]
  },
  {
   "cell_type": "code",
   "execution_count": 10,
   "metadata": {},
   "outputs": [
    {
     "data": {
      "text/plain": [
       "9995"
      ]
     },
     "execution_count": 10,
     "metadata": {},
     "output_type": "execute_result"
    }
   ],
   "source": [
    "sum(df.UndergradMajor.isin(['A natural science (ex. biology, chemistry, physics)', 'Another engineering discipline (ex. civil, electrical, mechanical)']))"
   ]
  },
  {
   "cell_type": "code",
   "execution_count": 11,
   "metadata": {},
   "outputs": [
    {
     "data": {
      "text/plain": [
       "126"
      ]
     },
     "execution_count": 11,
     "metadata": {},
     "output_type": "execute_result"
    }
   ],
   "source": [
    "df.isnull().any().sum()"
   ]
  },
  {
   "cell_type": "code",
   "execution_count": 48,
   "metadata": {},
   "outputs": [
    {
     "name": "stdout",
     "output_type": "stream",
     "text": [
      "['Working as a founder or co-founder of my own company',\n",
      " \"Working in a different or more specialized technical role than the one I'm \"\n",
      " 'in now',\n",
      " 'Doing the same work',\n",
      " nan,\n",
      " 'Working as an engineering manager or other functional manager',\n",
      " 'Working in a career completely unrelated to software development',\n",
      " 'Working as a product manager or project manager',\n",
      " 'Retirement']\n"
     ]
    }
   ],
   "source": [
    "pprint(list(df.HopeFiveYears.unique()))"
   ]
  },
  {
   "cell_type": "code",
   "execution_count": 51,
   "metadata": {},
   "outputs": [
    {
     "name": "stdout",
     "output_type": "stream",
     "text": [
      "{'Back-end developer',\n",
      " 'C-suite executive (CEO, CTO, etc.)',\n",
      " 'Data or business analyst',\n",
      " 'Data scientist or machine learning specialist',\n",
      " 'Database administrator',\n",
      " 'Designer',\n",
      " 'Desktop or enterprise applications developer',\n",
      " 'DevOps specialist',\n",
      " 'Educator or academic researcher',\n",
      " 'Embedded applications or devices developer',\n",
      " 'Engineering manager',\n",
      " 'Front-end developer',\n",
      " 'Full-stack developer',\n",
      " 'Game or graphics developer',\n",
      " 'Marketing or sales professional',\n",
      " 'Mobile developer',\n",
      " 'Product manager',\n",
      " 'QA or test developer',\n",
      " 'Student',\n",
      " 'System administrator'}\n"
     ]
    }
   ],
   "source": [
    "answer_options = set()\n",
    "for answer in df.DevType.unique():\n",
    "    if answer is not np.nan:\n",
    "        for item in answer.split(';'):\n",
    "            answer_options.add(item)\n",
    "pprint(answer_options)"
   ]
  },
  {
   "cell_type": "markdown",
   "metadata": {},
   "source": [
    "# Getting Serious"
   ]
  },
  {
   "cell_type": "code",
   "execution_count": 91,
   "metadata": {},
   "outputs": [
    {
     "data": {
      "image/png": "[encoded data removed]",
      "text/plain": [
       "<Figure size 432x288 with 1 Axes>"
      ]
     },
     "metadata": {
      "needs_background": "light"
     },
     "output_type": "display_data"
    }
   ],
   "source": [
    "undergrad_breakdown = df.UndergradMajor.fillna('Not reported').value_counts()\n",
    "sns.barplot(x=undergrad_breakdown, y=undergrad_breakdown.index, color='royalblue')\n",
    "plt.show()"
   ]
  },
  {
   "cell_type": "code",
   "execution_count": 92,
   "metadata": {},
   "outputs": [
    {
     "data": {
      "image/png": "[encoded data removed]",
      "text/plain": [
       "<Figure size 432x288 with 1 Axes>"
      ]
     },
     "metadata": {
      "needs_background": "light"
     },
     "output_type": "display_data"
    }
   ],
   "source": [
    "degree_breakdown = df.FormalEducation.fillna('Not reported').value_counts()\n",
    "sns.barplot(x=degree_breakdown, y=degree_breakdown.index, color='royalblue')\n",
    "plt.show()"
   ]
  },
  {
   "cell_type": "code",
   "execution_count": 95,
   "metadata": {},
   "outputs": [
    {
     "data": {
      "image/png": "[encoded data removed]",
      "text/plain": [
       "<Figure size 432x288 with 1 Axes>"
      ]
     },
     "metadata": {
      "needs_background": "light"
     },
     "output_type": "display_data"
    }
   ],
   "source": [
    "is_phd = df.FormalEducation.fillna('Not reported').str.contains('Other doctoral degree')\n",
    "phd_field_breakdown = df.UndergradMajor.fillna('Not reported')[is_phd].value_counts()\n",
    "sns.barplot(x=phd_field_breakdown, y=phd_field_breakdown.index, color='royalblue')\n",
    "plt.show()"
   ]
  },
  {
   "cell_type": "code",
   "execution_count": 111,
   "metadata": {},
   "outputs": [
    {
     "name": "stdout",
     "output_type": "stream",
     "text": [
      "The fraction of the StackOverflow sample that\n",
      "-\thas a PhD, and\n",
      "-\tdoes not have an undergrad degree in Computer Science\n",
      "is 0.01.\n"
     ]
    }
   ],
   "source": [
    "is_phd = df.FormalEducation.fillna('Not reported').str.contains('Other doctoral degree')\n",
    "is_compscientist = df.UndergradMajor.fillna('Not reported').str.contains('Computer science')\n",
    "fraction_like_me = len(df[is_phd & ~is_compscientist]) / len(df)\n",
    "print(f\"The fraction of the StackOverflow sample that\\n-\\thas a PhD, and\\n\"\n",
    "      f\"-\\tdoes not have an undergrad degree in Computer Science\\nis {fraction_like_me:.2f}.\")"
   ]
  },
  {
   "cell_type": "code",
   "execution_count": null,
   "metadata": {},
   "outputs": [],
   "source": []
  }
 ],
 "metadata": {
  "kernelspec": {
   "display_name": "Python 3",
   "language": "python",
   "name": "python3"
  },
  "language_info": {
   "codemirror_mode": {
    "name": "ipython",
    "version": 3
   },
   "file_extension": ".py",
   "mimetype": "text/x-python",
   "name": "python",
   "nbconvert_exporter": "python",
   "pygments_lexer": "ipython3",
   "version": "3.7.1"
  }
 },
 "nbformat": 4,
 "nbformat_minor": 2
}
