{
 "cells": [
  {
   "cell_type": "markdown",
   "metadata": {},
   "source": [
    "# StackOverflow 2018 Survey\n",
    "\n",
    "## Getting started"
   ]
  },
  {
   "cell_type": "code",
   "execution_count": 30,
   "metadata": {},
   "outputs": [],
   "source": [
    "from   collections import Counter\n",
    "import matplotlib.pyplot as plt\n",
    "import numpy as np\n",
    "import pandas as pd\n",
    "from   pathlib import Path\n",
    "from   pprint import pprint\n",
    "import seaborn as sns\n",
    "\n",
    "from   sklearn.preprocessing import Imputer, StandardScaler\n",
    "from   sklearn.decomposition import PCA\n",
    "from   sklearn.cluster import MiniBatchKMeans\n",
    "\n",
    "%matplotlib inline"
   ]
  },
  {
   "cell_type": "markdown",
   "metadata": {},
   "source": [
    "## Exploratory Data Analysis"
   ]
  },
  {
   "cell_type": "code",
   "execution_count": 3,
   "metadata": {},
   "outputs": [],
   "source": [
    "csv_path = Path(\"../data/survey_results_public.csv\")\n",
    "schema_path = Path(\"../data/survey_results_schema.csv\")"
   ]
  },
  {
   "cell_type": "code",
   "execution_count": 5,
   "metadata": {},
   "outputs": [],
   "source": [
    "df = pd.read_csv(csv_path, low_memory=False)\n",
    "schema = pd.read_csv(schema_path)"
   ]
  },
  {
   "cell_type": "code",
   "execution_count": 6,
   "metadata": {},
   "outputs": [
    {
     "data": {
      "text/plain": [
       "(98855, 129)"
      ]
     },
     "execution_count": 6,
     "metadata": {},
     "output_type": "execute_result"
    }
   ],
   "source": [
    "df.shape"
   ]
  },
  {
   "cell_type": "code",
   "execution_count": 8,
   "metadata": {},
   "outputs": [
    {
     "data": {
      "text/plain": [
       "(129, 2)"
      ]
     },
     "execution_count": 8,
     "metadata": {},
     "output_type": "execute_result"
    }
   ],
   "source": [
    "schema.shape"
   ]
  },
  {
   "cell_type": "code",
   "execution_count": 18,
   "metadata": {},
   "outputs": [
    {
     "name": "stdout",
     "output_type": "stream",
     "text": [
      "['Bachelor’s degree (BA, BS, B.Eng., etc.)',\n",
      " 'Associate degree',\n",
      " 'Some college/university study without earning a degree',\n",
      " 'Master’s degree (MA, MS, M.Eng., MBA, etc.)',\n",
      " 'Secondary school (e.g. American high school, German Realschule or Gymnasium, '\n",
      " 'etc.)',\n",
      " nan,\n",
      " 'Primary/elementary school',\n",
      " 'Professional degree (JD, MD, etc.)',\n",
      " 'I never completed any formal education',\n",
      " 'Other doctoral degree (Ph.D, Ed.D., etc.)']\n"
     ]
    }
   ],
   "source": [
    "pprint(list(df.FormalEducation.unique()))"
   ]
  },
  {
   "cell_type": "code",
   "execution_count": 26,
   "metadata": {},
   "outputs": [
    {
     "name": "stdout",
     "output_type": "stream",
     "text": [
      "['Mathematics or statistics',\n",
      " 'A natural science (ex. biology, chemistry, physics)',\n",
      " 'Computer science, computer engineering, or software engineering',\n",
      " 'Fine arts or performing arts (ex. graphic design, music, studio art)',\n",
      " 'Information systems, information technology, or system administration',\n",
      " 'Another engineering discipline (ex. civil, electrical, mechanical)',\n",
      " nan,\n",
      " 'A business discipline (ex. accounting, finance, marketing)',\n",
      " 'A social science (ex. anthropology, psychology, political science)',\n",
      " 'Web development or web design',\n",
      " 'A humanities discipline (ex. literature, history, philosophy)',\n",
      " 'A health science (ex. nursing, pharmacy, radiology)',\n",
      " 'I never declared a major']\n"
     ]
    }
   ],
   "source": [
    "pprint(list(df.UndergradMajor.unique()))"
   ]
  },
  {
   "cell_type": "code",
   "execution_count": 19,
   "metadata": {},
   "outputs": [
    {
     "data": {
      "text/plain": [
       "2214"
      ]
     },
     "execution_count": 19,
     "metadata": {},
     "output_type": "execute_result"
    }
   ],
   "source": [
    "sum(df.FormalEducation == 'Other doctoral degree (Ph.D, Ed.D., etc.)')"
   ]
  },
  {
   "cell_type": "code",
   "execution_count": 21,
   "metadata": {},
   "outputs": [
    {
     "data": {
      "text/plain": [
       "21396"
      ]
     },
     "execution_count": 21,
     "metadata": {},
     "output_type": "execute_result"
    }
   ],
   "source": [
    "sum(df.FormalEducation == 'Master’s degree (MA, MS, M.Eng., MBA, etc.)')"
   ]
  },
  {
   "cell_type": "code",
   "execution_count": 27,
   "metadata": {},
   "outputs": [
    {
     "data": {
      "text/plain": [
       "9995"
      ]
     },
     "execution_count": 27,
     "metadata": {},
     "output_type": "execute_result"
    }
   ],
   "source": [
    "sum(df.UndergradMajor.isin(['A natural science (ex. biology, chemistry, physics)', 'Another engineering discipline (ex. civil, electrical, mechanical)']))"
   ]
  },
  {
   "cell_type": "code",
   "execution_count": 25,
   "metadata": {},
   "outputs": [
    {
     "data": {
      "text/plain": [
       "126"
      ]
     },
     "execution_count": 25,
     "metadata": {},
     "output_type": "execute_result"
    }
   ],
   "source": [
    "df.isnull().any().sum()"
   ]
  },
  {
   "cell_type": "code",
   "execution_count": null,
   "metadata": {},
   "outputs": [],
   "source": []
  },
  {
   "cell_type": "markdown",
   "metadata": {},
   "source": [
    "# Preliminary Machine Learning"
   ]
  },
  {
   "cell_type": "code",
   "execution_count": null,
   "metadata": {},
   "outputs": [],
   "source": []
  }
 ],
 "metadata": {
  "kernelspec": {
   "display_name": "Python 3",
   "language": "python",
   "name": "python3"
  },
  "language_info": {
   "codemirror_mode": {
    "name": "ipython",
    "version": 3
   },
   "file_extension": ".py",
   "mimetype": "text/x-python",
   "name": "python",
   "nbconvert_exporter": "python",
   "pygments_lexer": "ipython3",
   "version": "3.6.6"
  }
 },
 "nbformat": 4,
 "nbformat_minor": 2
}
